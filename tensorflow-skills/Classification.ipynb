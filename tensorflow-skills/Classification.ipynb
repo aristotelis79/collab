{
  "cells": [
    {
      "cell_type": "markdown",
      "metadata": {
        "id": "view-in-github",
        "colab_type": "text"
      },
      "source": [
        "<a href=\"https://colab.research.google.com/github/aristotelis79/collab/blob/main/Classification.ipynb\" target=\"_parent\"><img src=\"https://colab.research.google.com/assets/colab-badge.svg\" alt=\"Open In Colab\"/></a>"
      ]
    },
    {
      "cell_type": "code",
      "execution_count": null,
      "id": "09931b26",
      "metadata": {
        "scrolled": true,
        "id": "09931b26"
      },
      "outputs": [],
      "source": [
        "import warnings\n",
        "warnings.filterwarnings('ignore')"
      ]
    },
    {
      "cell_type": "code",
      "execution_count": 1,
      "id": "8d2a5d2f",
      "metadata": {
        "id": "8d2a5d2f"
      },
      "outputs": [],
      "source": [
        "import numpy as np\n",
        "import matplotlib.pyplot as plt"
      ]
    },
    {
      "cell_type": "code",
      "execution_count": 2,
      "id": "60829439",
      "metadata": {
        "id": "60829439"
      },
      "outputs": [],
      "source": [
        "import tensorflow as tf"
      ]
    },
    {
      "cell_type": "markdown",
      "id": "d4bb5db6",
      "metadata": {
        "id": "d4bb5db6"
      },
      "source": [
        "We'll use MNIST dataset in this demo. To know more about this dataset, please refer to these links, [link1](https://en.wikipedia.org/wiki/MNIST_database), [link2](https://www.tensorflow.org/datasets/catalog/mnist)"
      ]
    },
    {
      "cell_type": "code",
      "execution_count": 3,
      "id": "5974f726",
      "metadata": {
        "id": "5974f726"
      },
      "outputs": [],
      "source": [
        "from tensorflow.keras.datasets import mnist"
      ]
    },
    {
      "cell_type": "code",
      "execution_count": 4,
      "id": "c6432b68",
      "metadata": {
        "colab": {
          "base_uri": "https://localhost:8080/"
        },
        "id": "c6432b68",
        "outputId": "7cdb7101-a848-45c6-8d07-56fc637fb5fb"
      },
      "outputs": [
        {
          "output_type": "stream",
          "name": "stdout",
          "text": [
            "Downloading data from https://storage.googleapis.com/tensorflow/tf-keras-datasets/mnist.npz\n",
            "11490434/11490434 [==============================] - 0s 0us/step\n"
          ]
        }
      ],
      "source": [
        "(x_train, y_train),(x_test, y_test) = mnist.load_data()"
      ]
    },
    {
      "cell_type": "code",
      "execution_count": 5,
      "id": "5d862392",
      "metadata": {
        "colab": {
          "base_uri": "https://localhost:8080/"
        },
        "id": "5d862392",
        "outputId": "00f2c7aa-06d8-456f-bc44-23eced2d18a8"
      },
      "outputs": [
        {
          "output_type": "execute_result",
          "data": {
            "text/plain": [
              "(60000, 28, 28)"
            ]
          },
          "metadata": {},
          "execution_count": 5
        }
      ],
      "source": [
        "x_train.shape"
      ]
    },
    {
      "cell_type": "code",
      "execution_count": 6,
      "id": "4ffa84dd",
      "metadata": {
        "colab": {
          "base_uri": "https://localhost:8080/"
        },
        "id": "4ffa84dd",
        "outputId": "a80f38c6-83fb-4ae6-ca7c-9d40fbe7472e"
      },
      "outputs": [
        {
          "output_type": "execute_result",
          "data": {
            "text/plain": [
              "(10000, 28, 28)"
            ]
          },
          "metadata": {},
          "execution_count": 6
        }
      ],
      "source": [
        "x_test.shape"
      ]
    },
    {
      "cell_type": "code",
      "execution_count": 7,
      "id": "34dfb7af",
      "metadata": {
        "colab": {
          "base_uri": "https://localhost:8080/"
        },
        "id": "34dfb7af",
        "outputId": "ac1a2c50-18ac-4191-b8a3-b0f830cddfdf"
      },
      "outputs": [
        {
          "output_type": "execute_result",
          "data": {
            "text/plain": [
              "10"
            ]
          },
          "metadata": {},
          "execution_count": 7
        }
      ],
      "source": [
        "num_labels = len(np.unique(y_train))\n",
        "num_labels"
      ]
    },
    {
      "cell_type": "code",
      "execution_count": 8,
      "id": "347c555c",
      "metadata": {
        "colab": {
          "base_uri": "https://localhost:8080/"
        },
        "id": "347c555c",
        "outputId": "34380814-3b3a-4f92-95aa-7e49a7196c2f"
      },
      "outputs": [
        {
          "output_type": "stream",
          "name": "stdout",
          "text": [
            "Train labels:  {0: 5923, 1: 6742, 2: 5958, 3: 6131, 4: 5842, 5: 5421, 6: 5918, 7: 6265, 8: 5851, 9: 5949}\n"
          ]
        }
      ],
      "source": [
        "unique, counts = np.unique(y_train, return_counts=True)\n",
        "print(\"Train labels: \", dict(zip(unique, counts)))"
      ]
    },
    {
      "cell_type": "code",
      "execution_count": 9,
      "id": "8ea0caf2",
      "metadata": {
        "id": "8ea0caf2"
      },
      "outputs": [],
      "source": [
        "indices = np.random.randint(0, x_train.shape[0], size=16)\n",
        "images = x_train[indices]"
      ]
    },
    {
      "cell_type": "code",
      "execution_count": 10,
      "id": "0068c6f6",
      "metadata": {
        "colab": {
          "base_uri": "https://localhost:8080/",
          "height": 345
        },
        "id": "0068c6f6",
        "outputId": "87d99b47-abf5-44cd-f4ed-c5fe599486bb"
      },
      "outputs": [
        {
          "output_type": "display_data",
          "data": {
            "text/plain": [
              "<Figure size 400x400 with 16 Axes>"
            ],
            "image/png": "[encoded data removed]"
          },
          "metadata": {}
        }
      ],
      "source": [
        "plt.figure(figsize=(4,4))\n",
        "for i in range(len(indices)):\n",
        "    plt.subplot(4, 4, i + 1)\n",
        "    image = images[i]\n",
        "    plt.imshow(image, cmap='gray')\n",
        "    plt.axis('off')"
      ]
    },
    {
      "cell_type": "markdown",
      "id": "0af3e819",
      "metadata": {
        "id": "0af3e819"
      },
      "source": [
        "Import the [to_categorical](https://www.tensorflow.org/api_docs/python/tf/keras/utils/to_categorical) function to perform one-hot encoding"
      ]
    },
    {
      "cell_type": "code",
      "execution_count": 11,
      "id": "70bece9f",
      "metadata": {
        "id": "70bece9f"
      },
      "outputs": [],
      "source": [
        "from tensorflow.keras.utils import to_categorical"
      ]
    },
    {
      "cell_type": "code",
      "execution_count": 12,
      "id": "9b83364b",
      "metadata": {
        "colab": {
          "base_uri": "https://localhost:8080/"
        },
        "id": "9b83364b",
        "outputId": "1907d21d-e02f-4470-dda4-cecad346ff57"
      },
      "outputs": [
        {
          "output_type": "execute_result",
          "data": {
            "text/plain": [
              "array([5, 0, 4, 1, 9], dtype=uint8)"
            ]
          },
          "metadata": {},
          "execution_count": 12
        }
      ],
      "source": [
        "y_train[0:5]"
      ]
    },
    {
      "cell_type": "code",
      "execution_count": 13,
      "id": "a56eee1a",
      "metadata": {
        "id": "a56eee1a"
      },
      "outputs": [],
      "source": [
        "y_train = to_categorical(y_train)"
      ]
    },
    {
      "cell_type": "code",
      "execution_count": 14,
      "id": "4047fcaa",
      "metadata": {
        "colab": {
          "base_uri": "https://localhost:8080/"
        },
        "id": "4047fcaa",
        "outputId": "e9fd27da-adab-4373-a99d-25153ce4eb6c"
      },
      "outputs": [
        {
          "output_type": "execute_result",
          "data": {
            "text/plain": [
              "array([[0., 0., 0., 0., 0., 1., 0., 0., 0., 0.],\n",
              "       [1., 0., 0., 0., 0., 0., 0., 0., 0., 0.],\n",
              "       [0., 0., 0., 0., 1., 0., 0., 0., 0., 0.],\n",
              "       [0., 1., 0., 0., 0., 0., 0., 0., 0., 0.],\n",
              "       [0., 0., 0., 0., 0., 0., 0., 0., 0., 1.]], dtype=float32)"
            ]
          },
          "metadata": {},
          "execution_count": 14
        }
      ],
      "source": [
        "y_train[0:5]"
      ]
    },
    {
      "cell_type": "code",
      "execution_count": 15,
      "id": "7e49a9b5",
      "metadata": {
        "id": "7e49a9b5"
      },
      "outputs": [],
      "source": [
        "y_test = to_categorical(y_test)"
      ]
    },
    {
      "cell_type": "code",
      "execution_count": 16,
      "id": "49160c25",
      "metadata": {
        "colab": {
          "base_uri": "https://localhost:8080/"
        },
        "id": "49160c25",
        "outputId": "8bf5ed70-50f1-431e-9188-96c3fd9c4a7a"
      },
      "outputs": [
        {
          "output_type": "execute_result",
          "data": {
            "text/plain": [
              "784"
            ]
          },
          "metadata": {},
          "execution_count": 16
        }
      ],
      "source": [
        "image_size = x_train.shape[1]\n",
        "input_size = image_size * image_size\n",
        "input_size"
      ]
    },
    {
      "cell_type": "code",
      "execution_count": 17,
      "id": "065eeb2f",
      "metadata": {
        "colab": {
          "base_uri": "https://localhost:8080/"
        },
        "id": "065eeb2f",
        "outputId": "aaf1cfd0-b2a2-4c2b-cf1e-f9b2bd2fdad6"
      },
      "outputs": [
        {
          "output_type": "execute_result",
          "data": {
            "text/plain": [
              "(28, 28)"
            ]
          },
          "metadata": {},
          "execution_count": 17
        }
      ],
      "source": [
        "x_train[0].shape"
      ]
    },
    {
      "cell_type": "code",
      "execution_count": 18,
      "id": "85721fad",
      "metadata": {
        "id": "85721fad"
      },
      "outputs": [],
      "source": [
        "x_train = np.reshape(x_train, [-1, input_size])"
      ]
    },
    {
      "cell_type": "code",
      "execution_count": 19,
      "id": "21c53399",
      "metadata": {
        "colab": {
          "base_uri": "https://localhost:8080/"
        },
        "id": "21c53399",
        "outputId": "8bbff0bf-182f-41fa-8b35-f78b2f40844b"
      },
      "outputs": [
        {
          "output_type": "execute_result",
          "data": {
            "text/plain": [
              "(784,)"
            ]
          },
          "metadata": {},
          "execution_count": 19
        }
      ],
      "source": [
        "x_train[0].shape"
      ]
    },
    {
      "cell_type": "code",
      "execution_count": 20,
      "id": "0efce61f",
      "metadata": {
        "id": "0efce61f"
      },
      "outputs": [],
      "source": [
        "x_test = np.reshape(x_test, [-1, input_size])"
      ]
    },
    {
      "cell_type": "code",
      "execution_count": 21,
      "id": "68f5a933",
      "metadata": {
        "id": "68f5a933"
      },
      "outputs": [],
      "source": [
        "x_train = x_train.astype('float32') / 255\n",
        "x_test = x_test.astype('float32') / 255"
      ]
    },
    {
      "cell_type": "markdown",
      "id": "337ae6f1",
      "metadata": {
        "id": "337ae6f1"
      },
      "source": [
        "Import Sequential model from Keras. Import Dense and Dropout layers from Keras. To know more about them, consult these links. [sequential](https://www.tensorflow.org/api_docs/python/tf/keras/Sequential), [dense](https://www.tensorflow.org/api_docs/python/tf/keras/layers/Dense), [dropout](https://www.tensorflow.org/api_docs/python/tf/keras/layers/Dropout).\n",
        "\n",
        "To know more about relu activation check out this [link](https://deepai.org/machine-learning-glossary-and-terms/relu)."
      ]
    },
    {
      "cell_type": "code",
      "execution_count": 22,
      "id": "d6b36ec5",
      "metadata": {
        "id": "d6b36ec5"
      },
      "outputs": [],
      "source": [
        "from tensorflow.keras.models import Sequential\n",
        "from tensorflow.keras.layers import Dense, Dropout"
      ]
    },
    {
      "cell_type": "code",
      "execution_count": 23,
      "id": "da05b611",
      "metadata": {
        "id": "da05b611"
      },
      "outputs": [],
      "source": [
        "model = Sequential()\n",
        "model.add(Dense(512, input_dim=input_size, activation='relu'))\n",
        "model.add(Dropout(0.2))\n",
        "model.add(Dense(512, activation='relu'))\n",
        "model.add(Dropout(0.2))\n",
        "model.add(Dense(num_labels, activation='softmax'))"
      ]
    },
    {
      "cell_type": "markdown",
      "id": "c676a2e8",
      "metadata": {
        "id": "c676a2e8"
      },
      "source": [
        "Compile the model by specifying the loss function and the optimizer. To know more about different loss functions and optimizers, go through these links. [link1](https://medium.com/data-science-group-iitr/loss-functions-and-optimization-algorithms-demystified-bb92daff331c), [link2](https://towardsdatascience.com/estimators-loss-functions-optimizers-core-of-ml-algorithms-d603f6b0161a?gi=2b36a1eee48a), [link3](https://towardsdatascience.com/optimizers-for-training-neural-network-59450d71caf6)"
      ]
    },
    {
      "cell_type": "code",
      "execution_count": 24,
      "id": "a8ddb77b",
      "metadata": {
        "id": "a8ddb77b"
      },
      "outputs": [],
      "source": [
        "model.compile(loss='categorical_crossentropy', optimizer='adam',\n",
        "              metrics=['accuracy'])"
      ]
    },
    {
      "cell_type": "code",
      "execution_count": 25,
      "id": "f7251575",
      "metadata": {
        "colab": {
          "base_uri": "https://localhost:8080/"
        },
        "id": "f7251575",
        "outputId": "a68c0c5c-64d6-4b72-9a1e-b4b0070f4bc1"
      },
      "outputs": [
        {
          "output_type": "stream",
          "name": "stdout",
          "text": [
            "Model: \"sequential\"\n",
            "_________________________________________________________________\n",
            " Layer (type)                Output Shape              Param #   \n",
            "=================================================================\n",
            " dense (Dense)               (None, 512)               401920    \n",
            "                                                                 \n",
            " dropout (Dropout)           (None, 512)               0         \n",
            "                                                                 \n",
            " dense_1 (Dense)             (None, 512)               262656    \n",
            "                                                                 \n",
            " dropout_1 (Dropout)         (None, 512)               0         \n",
            "                                                                 \n",
            " dense_2 (Dense)             (None, 10)                5130      \n",
            "                                                                 \n",
            "=================================================================\n",
            "Total params: 669706 (2.55 MB)\n",
            "Trainable params: 669706 (2.55 MB)\n",
            "Non-trainable params: 0 (0.00 Byte)\n",
            "_________________________________________________________________\n"
          ]
        }
      ],
      "source": [
        "model.summary()"
      ]
    },
    {
      "cell_type": "code",
      "execution_count": 26,
      "id": "ea3b09b5",
      "metadata": {
        "scrolled": true,
        "colab": {
          "base_uri": "https://localhost:8080/"
        },
        "id": "ea3b09b5",
        "outputId": "b9421c8e-8d37-47f3-d01b-dbb0ce7df01b"
      },
      "outputs": [
        {
          "output_type": "stream",
          "name": "stdout",
          "text": [
            "Epoch 1/20\n",
            "1500/1500 [==============================] - 9s 4ms/step - loss: 0.2377 - accuracy: 0.9284 - val_loss: 0.1284 - val_accuracy: 0.9616\n",
            "Epoch 2/20\n",
            "1500/1500 [==============================] - 6s 4ms/step - loss: 0.1124 - accuracy: 0.9656 - val_loss: 0.0914 - val_accuracy: 0.9732\n",
            "Epoch 3/20\n",
            "1500/1500 [==============================] - 5s 3ms/step - loss: 0.0839 - accuracy: 0.9738 - val_loss: 0.0908 - val_accuracy: 0.9719\n",
            "Epoch 4/20\n",
            "1500/1500 [==============================] - 6s 4ms/step - loss: 0.0684 - accuracy: 0.9780 - val_loss: 0.0944 - val_accuracy: 0.9736\n",
            "Epoch 5/20\n",
            "1500/1500 [==============================] - 5s 4ms/step - loss: 0.0599 - accuracy: 0.9818 - val_loss: 0.0994 - val_accuracy: 0.9741\n",
            "Epoch 6/20\n",
            "1500/1500 [==============================] - 6s 4ms/step - loss: 0.0526 - accuracy: 0.9840 - val_loss: 0.0909 - val_accuracy: 0.9754\n",
            "Epoch 7/20\n",
            "1500/1500 [==============================] - 6s 4ms/step - loss: 0.0475 - accuracy: 0.9856 - val_loss: 0.0915 - val_accuracy: 0.9778\n",
            "Epoch 8/20\n",
            "1500/1500 [==============================] - 6s 4ms/step - loss: 0.0420 - accuracy: 0.9867 - val_loss: 0.0832 - val_accuracy: 0.9783\n",
            "Epoch 9/20\n",
            "1500/1500 [==============================] - 5s 4ms/step - loss: 0.0381 - accuracy: 0.9880 - val_loss: 0.0959 - val_accuracy: 0.9769\n",
            "Epoch 10/20\n",
            "1500/1500 [==============================] - 5s 3ms/step - loss: 0.0379 - accuracy: 0.9888 - val_loss: 0.1083 - val_accuracy: 0.9762\n",
            "Epoch 11/20\n",
            "1500/1500 [==============================] - 6s 4ms/step - loss: 0.0310 - accuracy: 0.9898 - val_loss: 0.1148 - val_accuracy: 0.9765\n",
            "Epoch 12/20\n",
            "1500/1500 [==============================] - 6s 4ms/step - loss: 0.0358 - accuracy: 0.9893 - val_loss: 0.1114 - val_accuracy: 0.9782\n",
            "Epoch 13/20\n",
            "1500/1500 [==============================] - 6s 4ms/step - loss: 0.0284 - accuracy: 0.9914 - val_loss: 0.1087 - val_accuracy: 0.9796\n",
            "Epoch 14/20\n",
            "1500/1500 [==============================] - 5s 3ms/step - loss: 0.0324 - accuracy: 0.9902 - val_loss: 0.1138 - val_accuracy: 0.9783\n",
            "Epoch 15/20\n",
            "1500/1500 [==============================] - 6s 4ms/step - loss: 0.0306 - accuracy: 0.9913 - val_loss: 0.1135 - val_accuracy: 0.9782\n",
            "Epoch 16/20\n",
            "1500/1500 [==============================] - 5s 4ms/step - loss: 0.0270 - accuracy: 0.9919 - val_loss: 0.1199 - val_accuracy: 0.9783\n",
            "Epoch 17/20\n",
            "1500/1500 [==============================] - 6s 4ms/step - loss: 0.0291 - accuracy: 0.9918 - val_loss: 0.1278 - val_accuracy: 0.9775\n",
            "Epoch 18/20\n",
            "1500/1500 [==============================] - 5s 3ms/step - loss: 0.0247 - accuracy: 0.9931 - val_loss: 0.1237 - val_accuracy: 0.9803\n",
            "Epoch 19/20\n",
            "1500/1500 [==============================] - 6s 4ms/step - loss: 0.0323 - accuracy: 0.9912 - val_loss: 0.1402 - val_accuracy: 0.9776\n",
            "Epoch 20/20\n",
            "1500/1500 [==============================] - 6s 4ms/step - loss: 0.0250 - accuracy: 0.9932 - val_loss: 0.1191 - val_accuracy: 0.9798\n"
          ]
        },
        {
          "output_type": "execute_result",
          "data": {
            "text/plain": [
              "<keras.src.callbacks.History at 0x7ceaa05537f0>"
            ]
          },
          "metadata": {},
          "execution_count": 26
        }
      ],
      "source": [
        "model.fit(x_train, y_train, epochs=20, validation_split=0.2)"
      ]
    },
    {
      "cell_type": "code",
      "execution_count": 27,
      "id": "29059709",
      "metadata": {
        "colab": {
          "base_uri": "https://localhost:8080/"
        },
        "id": "29059709",
        "outputId": "e7025558-59db-463f-d7b3-5a49a2335ba9"
      },
      "outputs": [
        {
          "output_type": "stream",
          "name": "stdout",
          "text": [
            "313/313 [==============================] - 1s 3ms/step - loss: 0.1083 - accuracy: 0.9814\n",
            "\n",
            "Test accuracy:  0.9814000129699707\n"
          ]
        }
      ],
      "source": [
        "loss, acc = model.evaluate(x_test, y_test)\n",
        "print(\"\\nTest accuracy: \", acc)"
      ]
    },
    {
      "cell_type": "code",
      "execution_count": 28,
      "id": "49245456",
      "metadata": {
        "colab": {
          "base_uri": "https://localhost:8080/"
        },
        "id": "49245456",
        "outputId": "e02b8798-62df-40ce-dad5-917ec04db05d"
      },
      "outputs": [
        {
          "output_type": "stream",
          "name": "stdout",
          "text": [
            "313/313 [==============================] - 1s 3ms/step\n"
          ]
        }
      ],
      "source": [
        "y_pred = model.predict(x_test)"
      ]
    },
    {
      "cell_type": "code",
      "execution_count": 29,
      "id": "f955ef47",
      "metadata": {
        "colab": {
          "base_uri": "https://localhost:8080/"
        },
        "id": "f955ef47",
        "outputId": "8b8ebb0a-0f41-4aa5-d3ef-ee73280e6a51"
      },
      "outputs": [
        {
          "output_type": "execute_result",
          "data": {
            "text/plain": [
              "array([2.75845872e-21, 7.87957397e-15, 3.50315683e-14, 1.05267825e-16,\n",
              "       4.79025918e-17, 2.98034467e-19, 2.35955594e-25, 1.00000000e+00,\n",
              "       2.40359151e-16, 4.62172921e-12], dtype=float32)"
            ]
          },
          "metadata": {},
          "execution_count": 29
        }
      ],
      "source": [
        "y_pred[0]"
      ]
    },
    {
      "cell_type": "code",
      "execution_count": 30,
      "id": "92c1e353",
      "metadata": {
        "id": "92c1e353"
      },
      "outputs": [],
      "source": [
        "y_pred = y_pred.argmax(axis=1)"
      ]
    },
    {
      "cell_type": "code",
      "execution_count": 31,
      "id": "50afd3b1",
      "metadata": {
        "colab": {
          "base_uri": "https://localhost:8080/"
        },
        "id": "50afd3b1",
        "outputId": "1c693931-f2db-4132-bb4b-f5a77ae1e389"
      },
      "outputs": [
        {
          "output_type": "execute_result",
          "data": {
            "text/plain": [
              "7"
            ]
          },
          "metadata": {},
          "execution_count": 31
        }
      ],
      "source": [
        "y_pred[0]"
      ]
    },
    {
      "cell_type": "markdown",
      "id": "2e042ca9",
      "metadata": {
        "id": "2e042ca9"
      },
      "source": [
        "Import [confusion_matrix](https://scikit-learn.org/stable/modules/generated/sklearn.metrics.confusion_matrix.html), [precision_score](https://scikit-learn.org/stable/modules/generated/sklearn.metrics.precision_score.html), [recall_score](https://scikit-learn.org/stable/modules/generated/sklearn.metrics.recall_score.html) to asses the efficacy of the model"
      ]
    },
    {
      "cell_type": "code",
      "execution_count": 32,
      "id": "2aea31e0",
      "metadata": {
        "id": "2aea31e0"
      },
      "outputs": [],
      "source": [
        "from sklearn.metrics import confusion_matrix\n",
        "from sklearn.metrics import precision_score, recall_score"
      ]
    },
    {
      "cell_type": "code",
      "execution_count": 33,
      "id": "361a013c",
      "metadata": {
        "id": "361a013c"
      },
      "outputs": [],
      "source": [
        "y_test = y_test.argmax(axis=1)"
      ]
    },
    {
      "cell_type": "code",
      "execution_count": 34,
      "id": "3b54293b",
      "metadata": {
        "colab": {
          "base_uri": "https://localhost:8080/"
        },
        "id": "3b54293b",
        "outputId": "27c17f08-6178-42c1-c291-e2111eb7d618"
      },
      "outputs": [
        {
          "output_type": "execute_result",
          "data": {
            "text/plain": [
              "array([[ 966,    1,    0,    1,    0,    3,    4,    1,    1,    3],\n",
              "       [   0, 1127,    2,    0,    0,    1,    3,    1,    1,    0],\n",
              "       [   1,    0, 1012,    2,    1,    0,    3,   10,    3,    0],\n",
              "       [   0,    0,    2,  996,    0,    3,    0,    4,    4,    1],\n",
              "       [   1,    1,    2,    0,  956,    0,    5,    1,    2,   14],\n",
              "       [   2,    0,    0,    6,    0,  874,    3,    1,    2,    4],\n",
              "       [   1,    2,    0,    1,    2,    5,  945,    0,    2,    0],\n",
              "       [   0,    1,   11,    1,    0,    0,    0, 1000,    4,   11],\n",
              "       [   0,    0,    2,    3,    0,   10,    2,    3,  951,    3],\n",
              "       [   2,    4,    1,    2,    7,    2,    0,    2,    2,  987]])"
            ]
          },
          "metadata": {},
          "execution_count": 34
        }
      ],
      "source": [
        "matrix = confusion_matrix(y_test, y_pred)\n",
        "matrix"
      ]
    },
    {
      "cell_type": "code",
      "execution_count": 35,
      "id": "14fbc8eb",
      "metadata": {
        "scrolled": true,
        "colab": {
          "base_uri": "https://localhost:8080/"
        },
        "id": "14fbc8eb",
        "outputId": "9941c323-5040-40ae-a144-bc77a82a5bb4"
      },
      "outputs": [
        {
          "output_type": "execute_result",
          "data": {
            "text/plain": [
              "array([0.99280576, 0.99207746, 0.98062016, 0.98418972, 0.98964803,\n",
              "       0.97327394, 0.97927461, 0.97751711, 0.97839506, 0.96480938])"
            ]
          },
          "metadata": {},
          "execution_count": 35
        }
      ],
      "source": [
        "precision_score(y_test, y_pred, average=None)"
      ]
    },
    {
      "cell_type": "code",
      "execution_count": 36,
      "id": "0eb03433",
      "metadata": {
        "colab": {
          "base_uri": "https://localhost:8080/"
        },
        "id": "0eb03433",
        "outputId": "f1aeee56-c22c-45d9-951e-34ddcd2e0ae6"
      },
      "outputs": [
        {
          "output_type": "execute_result",
          "data": {
            "text/plain": [
              "array([0.98571429, 0.99295154, 0.98062016, 0.98613861, 0.97352342,\n",
              "       0.97982063, 0.98643006, 0.97276265, 0.97638604, 0.97819623])"
            ]
          },
          "metadata": {},
          "execution_count": 36
        }
      ],
      "source": [
        "recall_score(y_test, y_pred, average=None)"
      ]
    }
  ],
  "metadata": {
    "kernelspec": {
      "display_name": "Python 3.8.8",
      "language": "python",
      "name": "py3.8.8"
    },
    "language_info": {
      "codemirror_mode": {
        "name": "ipython",
        "version": 3
      },
      "file_extension": ".py",
      "mimetype": "text/x-python",
      "name": "python",
      "nbconvert_exporter": "python",
      "pygments_lexer": "ipython3",
      "version": "3.8.8"
    },
    "colab": {
      "provenance": [],
      "gpuType": "T4",
      "include_colab_link": true
    },
    "accelerator": "GPU"
  },
  "nbformat": 4,
  "nbformat_minor": 5
}
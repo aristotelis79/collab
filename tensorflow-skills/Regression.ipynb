{
  "cells": [
    {
      "cell_type": "markdown",
      "metadata": {
        "id": "view-in-github",
        "colab_type": "text"
      },
      "source": [
        "<a href=\"https://colab.research.google.com/github/aristotelis79/collab/blob/main/Regression.ipynb\" target=\"_parent\"><img src=\"https://colab.research.google.com/assets/colab-badge.svg\" alt=\"Open In Colab\"/></a>"
      ]
    },
    {
      "cell_type": "code",
      "execution_count": null,
      "id": "4958401a",
      "metadata": {
        "id": "4958401a"
      },
      "outputs": [],
      "source": [
        "import warnings\n",
        "warnings.filterwarnings('ignore')"
      ]
    },
    {
      "cell_type": "markdown",
      "id": "d57ac05b",
      "metadata": {
        "id": "d57ac05b"
      },
      "source": [
        "We'll use the [Boston Housing](https://www.cs.toronto.edu/~delve/data/boston/bostonDetail.html) Dataset for this demo. This is an open-source dataset which contains information collected by the U.S Census Service concerning housing in the area of Boston.\n",
        "\n",
        "Each samples contain 13 attributes of houses at different locations around the Boston suburbs in the late 1970s.\n",
        "* CRIM: per capita crime rate by town\n",
        "* ZN: proportion of residential land zoned for lots over 25,000 sq.ft.\n",
        "* INDUS: proportion of non-retail business acres per town.\n",
        "* CHAS: Charles River dummy variable (1 if tract bounds river; 0 otherwise)\n",
        "* NOX: nitric oxides concentration (parts per 10 million)\n",
        "* RM: average number of rooms per dwelling\n",
        "* AGE: proportion of owner-occupied units built prior to 1940\n",
        "* DIS: weighted distances to five Boston employment centres\n",
        "* RAD: index of accessibility to radial highways\n",
        "* TAX: full-value property-tax rate per `$10,000`\n",
        "* PTRATIO: pupil-teacher ratio by town\n",
        "* B: 1000(Bk - 0.63)^2 where Bk is the proportion of blacks by town\n",
        "* LSTAT: percentage of lower status of the population\n",
        "\n",
        "The targets are the median values of the houses at a location in 1000s of dollars.\n",
        "* MEDV: Median value of owner-occupied homes in $1000's"
      ]
    },
    {
      "cell_type": "code",
      "execution_count": 1,
      "id": "715071ea",
      "metadata": {
        "id": "715071ea"
      },
      "outputs": [],
      "source": [
        "import numpy as np\n",
        "import matplotlib.pyplot as plt\n",
        "import tensorflow as tf"
      ]
    },
    {
      "cell_type": "code",
      "execution_count": 2,
      "id": "d987514c",
      "metadata": {
        "id": "d987514c"
      },
      "outputs": [],
      "source": [
        "from tensorflow.keras.datasets import boston_housing"
      ]
    },
    {
      "cell_type": "code",
      "execution_count": 3,
      "id": "508c6fe9",
      "metadata": {
        "colab": {
          "base_uri": "https://localhost:8080/"
        },
        "id": "508c6fe9",
        "outputId": "fb5b69f5-fbe1-44f3-8065-34819097be6a"
      },
      "outputs": [
        {
          "output_type": "stream",
          "name": "stdout",
          "text": [
            "Downloading data from https://storage.googleapis.com/tensorflow/tf-keras-datasets/boston_housing.npz\n",
            "57026/57026 [==============================] - 0s 0us/step\n"
          ]
        }
      ],
      "source": [
        "(x_train, y_train), (x_test, y_test) = boston_housing.load_data()"
      ]
    },
    {
      "cell_type": "code",
      "execution_count": 4,
      "id": "96c9d7e9",
      "metadata": {
        "colab": {
          "base_uri": "https://localhost:8080/"
        },
        "id": "96c9d7e9",
        "outputId": "f827080e-ea74-488f-bd8c-e32c46371052"
      },
      "outputs": [
        {
          "output_type": "stream",
          "name": "stdout",
          "text": [
            "Number of train samples:  (404, 13)\n",
            "Number of test samples:  (102, 13)\n"
          ]
        }
      ],
      "source": [
        "print(\"Number of train samples: \", x_train.shape)\n",
        "print(\"Number of test samples: \", x_test.shape)"
      ]
    },
    {
      "cell_type": "code",
      "execution_count": 5,
      "id": "73112c90",
      "metadata": {
        "colab": {
          "base_uri": "https://localhost:8080/"
        },
        "id": "73112c90",
        "outputId": "21bd9046-0867-4f39-8810-9a90ac23d86c"
      },
      "outputs": [
        {
          "output_type": "execute_result",
          "data": {
            "text/plain": [
              "array([  1.23247,   0.     ,   8.14   ,   0.     ,   0.538  ,   6.142  ,\n",
              "        91.7    ,   3.9769 ,   4.     , 307.     ,  21.     , 396.9    ,\n",
              "        18.72   ])"
            ]
          },
          "metadata": {},
          "execution_count": 5
        }
      ],
      "source": [
        "x_train[0]"
      ]
    },
    {
      "cell_type": "code",
      "execution_count": 6,
      "id": "3068e9eb",
      "metadata": {
        "colab": {
          "base_uri": "https://localhost:8080/"
        },
        "id": "3068e9eb",
        "outputId": "2c788806-597b-423e-b08c-13901236d182"
      },
      "outputs": [
        {
          "output_type": "execute_result",
          "data": {
            "text/plain": [
              "15.2"
            ]
          },
          "metadata": {},
          "execution_count": 6
        }
      ],
      "source": [
        "y_train[0]"
      ]
    },
    {
      "cell_type": "markdown",
      "id": "c5a9852e",
      "metadata": {
        "id": "c5a9852e"
      },
      "source": [
        "We'll use the MinMaxScaler from Scikit-learn library to perform the feature scaling. To know more about this normalizer, please refer to this [link](https://scikit-learn.org/stable/modules/generated/sklearn.preprocessing.MinMaxScaler.html)."
      ]
    },
    {
      "cell_type": "code",
      "execution_count": 9,
      "id": "2e953006",
      "metadata": {
        "id": "2e953006"
      },
      "outputs": [],
      "source": [
        "from sklearn.preprocessing import MinMaxScaler"
      ]
    },
    {
      "cell_type": "code",
      "execution_count": 10,
      "id": "ba2c937c",
      "metadata": {
        "colab": {
          "base_uri": "https://localhost:8080/",
          "height": 75
        },
        "id": "ba2c937c",
        "outputId": "d34127f0-6878-47a0-aacb-9b4f8627dd1d"
      },
      "outputs": [
        {
          "output_type": "execute_result",
          "data": {
            "text/plain": [
              "MinMaxScaler()"
            ],
            "text/html": [
              "<style>#sk-container-id-1 {color: black;background-color: white;}#sk-container-id-1 pre{padding: 0;}#sk-container-id-1 div.sk-toggleable {background-color: white;}#sk-container-id-1 label.sk-toggleable__label {cursor: pointer;display: block;width: 100%;margin-bottom: 0;padding: 0.3em;box-sizing: border-box;text-align: center;}#sk-container-id-1 label.sk-toggleable__label-arrow:before {content: \"▸\";float: left;margin-right: 0.25em;color: #696969;}#sk-container-id-1 label.sk-toggleable__label-arrow:hover:before {color: black;}#sk-container-id-1 div.sk-estimator:hover label.sk-toggleable__label-arrow:before {color: black;}#sk-container-id-1 div.sk-toggleable__content {max-height: 0;max-width: 0;overflow: hidden;text-align: left;background-color: #f0f8ff;}#sk-container-id-1 div.sk-toggleable__content pre {margin: 0.2em;color: black;border-radius: 0.25em;background-color: #f0f8ff;}#sk-container-id-1 input.sk-toggleable__control:checked~div.sk-toggleable__content {max-height: 200px;max-width: 100%;overflow: auto;}#sk-container-id-1 input.sk-toggleable__control:checked~label.sk-toggleable__label-arrow:before {content: \"▾\";}#sk-container-id-1 div.sk-estimator input.sk-toggleable__control:checked~label.sk-toggleable__label {background-color: #d4ebff;}#sk-container-id-1 div.sk-label input.sk-toggleable__control:checked~label.sk-toggleable__label {background-color: #d4ebff;}#sk-container-id-1 input.sk-hidden--visually {border: 0;clip: rect(1px 1px 1px 1px);clip: rect(1px, 1px, 1px, 1px);height: 1px;margin: -1px;overflow: hidden;padding: 0;position: absolute;width: 1px;}#sk-container-id-1 div.sk-estimator {font-family: monospace;background-color: #f0f8ff;border: 1px dotted black;border-radius: 0.25em;box-sizing: border-box;margin-bottom: 0.5em;}#sk-container-id-1 div.sk-estimator:hover {background-color: #d4ebff;}#sk-container-id-1 div.sk-parallel-item::after {content: \"\";width: 100%;border-bottom: 1px solid gray;flex-grow: 1;}#sk-container-id-1 div.sk-label:hover label.sk-toggleable__label {background-color: #d4ebff;}#sk-container-id-1 div.sk-serial::before {content: \"\";position: absolute;border-left: 1px solid gray;box-sizing: border-box;top: 0;bottom: 0;left: 50%;z-index: 0;}#sk-container-id-1 div.sk-serial {display: flex;flex-direction: column;align-items: center;background-color: white;padding-right: 0.2em;padding-left: 0.2em;position: relative;}#sk-container-id-1 div.sk-item {position: relative;z-index: 1;}#sk-container-id-1 div.sk-parallel {display: flex;align-items: stretch;justify-content: center;background-color: white;position: relative;}#sk-container-id-1 div.sk-item::before, #sk-container-id-1 div.sk-parallel-item::before {content: \"\";position: absolute;border-left: 1px solid gray;box-sizing: border-box;top: 0;bottom: 0;left: 50%;z-index: -1;}#sk-container-id-1 div.sk-parallel-item {display: flex;flex-direction: column;z-index: 1;position: relative;background-color: white;}#sk-container-id-1 div.sk-parallel-item:first-child::after {align-self: flex-end;width: 50%;}#sk-container-id-1 div.sk-parallel-item:last-child::after {align-self: flex-start;width: 50%;}#sk-container-id-1 div.sk-parallel-item:only-child::after {width: 0;}#sk-container-id-1 div.sk-dashed-wrapped {border: 1px dashed gray;margin: 0 0.4em 0.5em 0.4em;box-sizing: border-box;padding-bottom: 0.4em;background-color: white;}#sk-container-id-1 div.sk-label label {font-family: monospace;font-weight: bold;display: inline-block;line-height: 1.2em;}#sk-container-id-1 div.sk-label-container {text-align: center;}#sk-container-id-1 div.sk-container {/* jupyter's `normalize.less` sets `[hidden] { display: none; }` but bootstrap.min.css set `[hidden] { display: none !important; }` so we also need the `!important` here to be able to override the default hidden behavior on the sphinx rendered scikit-learn.org. See: https://github.com/scikit-learn/scikit-learn/issues/21755 */display: inline-block !important;position: relative;}#sk-container-id-1 div.sk-text-repr-fallback {display: none;}</style><div id=\"sk-container-id-1\" class=\"sk-top-container\"><div class=\"sk-text-repr-fallback\"><pre>MinMaxScaler()</pre><b>In a Jupyter environment, please rerun this cell to show the HTML representation or trust the notebook. <br />On GitHub, the HTML representation is unable to render, please try loading this page with nbviewer.org.</b></div><div class=\"sk-container\" hidden><div class=\"sk-item\"><div class=\"sk-estimator sk-toggleable\"><input class=\"sk-toggleable__control sk-hidden--visually\" id=\"sk-estimator-id-1\" type=\"checkbox\" checked><label for=\"sk-estimator-id-1\" class=\"sk-toggleable__label sk-toggleable__label-arrow\">MinMaxScaler</label><div class=\"sk-toggleable__content\"><pre>MinMaxScaler()</pre></div></div></div></div></div>"
            ]
          },
          "metadata": {},
          "execution_count": 10
        }
      ],
      "source": [
        "mms = MinMaxScaler()\n",
        "mms.fit(x_train)"
      ]
    },
    {
      "cell_type": "code",
      "execution_count": 11,
      "id": "8a494f21",
      "metadata": {
        "id": "8a494f21"
      },
      "outputs": [],
      "source": [
        "x_train = mms.transform(x_train)\n",
        "x_test = mms.transform(x_test)"
      ]
    },
    {
      "cell_type": "code",
      "execution_count": 12,
      "id": "78726e27",
      "metadata": {
        "id": "78726e27"
      },
      "outputs": [],
      "source": [
        "from tensorflow.keras.models import Sequential\n",
        "from tensorflow.keras.layers import Dense"
      ]
    },
    {
      "cell_type": "code",
      "execution_count": 13,
      "id": "f8b2c899",
      "metadata": {
        "id": "f8b2c899"
      },
      "outputs": [],
      "source": [
        "model = Sequential()\n",
        "model.add(Dense(100, input_dim = 13, activation='relu'))\n",
        "model.add(Dense(100, activation='relu'))\n",
        "model.add(Dense(1))"
      ]
    },
    {
      "cell_type": "code",
      "execution_count": 14,
      "id": "a02d0dac",
      "metadata": {
        "id": "a02d0dac"
      },
      "outputs": [],
      "source": [
        "model.compile(optimizer='rmsprop', loss='mse', metrics=['mae'])"
      ]
    },
    {
      "cell_type": "code",
      "execution_count": 15,
      "id": "b69d1897",
      "metadata": {
        "colab": {
          "base_uri": "https://localhost:8080/"
        },
        "id": "b69d1897",
        "outputId": "d8417a66-04b0-44d0-b3cf-8be6929bf68e"
      },
      "outputs": [
        {
          "output_type": "stream",
          "name": "stdout",
          "text": [
            "Model: \"sequential\"\n",
            "_________________________________________________________________\n",
            " Layer (type)                Output Shape              Param #   \n",
            "=================================================================\n",
            " dense (Dense)               (None, 100)               1400      \n",
            "                                                                 \n",
            " dense_1 (Dense)             (None, 100)               10100     \n",
            "                                                                 \n",
            " dense_2 (Dense)             (None, 1)                 101       \n",
            "                                                                 \n",
            "=================================================================\n",
            "Total params: 11601 (45.32 KB)\n",
            "Trainable params: 11601 (45.32 KB)\n",
            "Non-trainable params: 0 (0.00 Byte)\n",
            "_________________________________________________________________\n"
          ]
        }
      ],
      "source": [
        "model.summary()"
      ]
    },
    {
      "cell_type": "code",
      "execution_count": 16,
      "id": "9a8024cd",
      "metadata": {
        "colab": {
          "base_uri": "https://localhost:8080/"
        },
        "id": "9a8024cd",
        "outputId": "17058750-56dd-4dcf-855d-1434c38953fa"
      },
      "outputs": [
        {
          "output_type": "stream",
          "name": "stdout",
          "text": [
            "Epoch 1/200\n",
            "11/11 [==============================] - 3s 37ms/step - loss: 531.8791 - mae: 21.1419 - val_loss: 544.1074 - val_mae: 21.3805\n",
            "Epoch 2/200\n",
            "11/11 [==============================] - 0s 10ms/step - loss: 433.1053 - mae: 18.5640 - val_loss: 427.3184 - val_mae: 18.3102\n",
            "Epoch 3/200\n",
            "11/11 [==============================] - 0s 9ms/step - loss: 318.3091 - mae: 15.0616 - val_loss: 297.7256 - val_mae: 14.2098\n",
            "Epoch 4/200\n",
            "11/11 [==============================] - 0s 10ms/step - loss: 209.9390 - mae: 11.3495 - val_loss: 193.5550 - val_mae: 10.8546\n",
            "Epoch 5/200\n",
            "11/11 [==============================] - 0s 10ms/step - loss: 144.4678 - mae: 9.0784 - val_loss: 144.2884 - val_mae: 9.1949\n",
            "Epoch 6/200\n",
            "11/11 [==============================] - 0s 10ms/step - loss: 116.5595 - mae: 8.0910 - val_loss: 119.1482 - val_mae: 8.3130\n",
            "Epoch 7/200\n",
            "11/11 [==============================] - 0s 9ms/step - loss: 101.1044 - mae: 7.4701 - val_loss: 101.3310 - val_mae: 7.5513\n",
            "Epoch 8/200\n",
            "11/11 [==============================] - 0s 9ms/step - loss: 88.4554 - mae: 6.9134 - val_loss: 89.1010 - val_mae: 6.9548\n",
            "Epoch 9/200\n",
            "11/11 [==============================] - 0s 10ms/step - loss: 78.2902 - mae: 6.4545 - val_loss: 89.4131 - val_mae: 6.6228\n",
            "Epoch 10/200\n",
            "11/11 [==============================] - 0s 7ms/step - loss: 71.0867 - mae: 5.9276 - val_loss: 74.3878 - val_mae: 6.0709\n",
            "Epoch 11/200\n",
            "11/11 [==============================] - 0s 6ms/step - loss: 63.8315 - mae: 5.6333 - val_loss: 74.8775 - val_mae: 5.8547\n",
            "Epoch 12/200\n",
            "11/11 [==============================] - 0s 6ms/step - loss: 59.8852 - mae: 5.2595 - val_loss: 62.0514 - val_mae: 5.5074\n",
            "Epoch 13/200\n",
            "11/11 [==============================] - 0s 7ms/step - loss: 56.0372 - mae: 5.2502 - val_loss: 58.5580 - val_mae: 5.2780\n",
            "Epoch 14/200\n",
            "11/11 [==============================] - 0s 8ms/step - loss: 52.8341 - mae: 5.0440 - val_loss: 55.1841 - val_mae: 5.2759\n",
            "Epoch 15/200\n",
            "11/11 [==============================] - 0s 7ms/step - loss: 50.7199 - mae: 4.9330 - val_loss: 59.5362 - val_mae: 5.0634\n",
            "Epoch 16/200\n",
            "11/11 [==============================] - 0s 6ms/step - loss: 48.8781 - mae: 4.8166 - val_loss: 56.9413 - val_mae: 4.9721\n",
            "Epoch 17/200\n",
            "11/11 [==============================] - 0s 7ms/step - loss: 47.2427 - mae: 4.6717 - val_loss: 48.9292 - val_mae: 4.8464\n",
            "Epoch 18/200\n",
            "11/11 [==============================] - 0s 6ms/step - loss: 46.1526 - mae: 4.6870 - val_loss: 48.5188 - val_mae: 5.2736\n",
            "Epoch 19/200\n",
            "11/11 [==============================] - 0s 7ms/step - loss: 44.8965 - mae: 4.7984 - val_loss: 46.9395 - val_mae: 4.6514\n",
            "Epoch 20/200\n",
            "11/11 [==============================] - 0s 6ms/step - loss: 42.1743 - mae: 4.4380 - val_loss: 47.4179 - val_mae: 4.6187\n",
            "Epoch 21/200\n",
            "11/11 [==============================] - 0s 7ms/step - loss: 40.3774 - mae: 4.2770 - val_loss: 47.8687 - val_mae: 4.6128\n",
            "Epoch 22/200\n",
            "11/11 [==============================] - 0s 7ms/step - loss: 39.1226 - mae: 4.2270 - val_loss: 39.7502 - val_mae: 4.5108\n",
            "Epoch 23/200\n",
            "11/11 [==============================] - 0s 6ms/step - loss: 36.9919 - mae: 4.2299 - val_loss: 38.7233 - val_mae: 4.3439\n",
            "Epoch 24/200\n",
            "11/11 [==============================] - 0s 7ms/step - loss: 35.1575 - mae: 3.9974 - val_loss: 37.9030 - val_mae: 4.2482\n",
            "Epoch 25/200\n",
            "11/11 [==============================] - 0s 7ms/step - loss: 34.4867 - mae: 3.9866 - val_loss: 46.0637 - val_mae: 4.6193\n",
            "Epoch 26/200\n",
            "11/11 [==============================] - 0s 6ms/step - loss: 33.5012 - mae: 3.8173 - val_loss: 39.3108 - val_mae: 4.2345\n",
            "Epoch 27/200\n",
            "11/11 [==============================] - 0s 6ms/step - loss: 31.9183 - mae: 3.8360 - val_loss: 36.4063 - val_mae: 4.0983\n",
            "Epoch 28/200\n",
            "11/11 [==============================] - 0s 6ms/step - loss: 30.4091 - mae: 3.6850 - val_loss: 33.1120 - val_mae: 3.9563\n",
            "Epoch 29/200\n",
            "11/11 [==============================] - 0s 6ms/step - loss: 29.7489 - mae: 3.7202 - val_loss: 31.7075 - val_mae: 3.8676\n",
            "Epoch 30/200\n",
            "11/11 [==============================] - 0s 7ms/step - loss: 27.8087 - mae: 3.5726 - val_loss: 29.2454 - val_mae: 3.7478\n",
            "Epoch 31/200\n",
            "11/11 [==============================] - 0s 6ms/step - loss: 27.3474 - mae: 3.6182 - val_loss: 27.5034 - val_mae: 3.7976\n",
            "Epoch 32/200\n",
            "11/11 [==============================] - 0s 7ms/step - loss: 25.4711 - mae: 3.4390 - val_loss: 30.0944 - val_mae: 4.3114\n",
            "Epoch 33/200\n",
            "11/11 [==============================] - 0s 7ms/step - loss: 26.0949 - mae: 3.5635 - val_loss: 27.5807 - val_mae: 3.5901\n",
            "Epoch 34/200\n",
            "11/11 [==============================] - 0s 8ms/step - loss: 24.5063 - mae: 3.3384 - val_loss: 24.8788 - val_mae: 3.5539\n",
            "Epoch 35/200\n",
            "11/11 [==============================] - 0s 7ms/step - loss: 23.5602 - mae: 3.3749 - val_loss: 24.3331 - val_mae: 3.4046\n",
            "Epoch 36/200\n",
            "11/11 [==============================] - 0s 8ms/step - loss: 23.1836 - mae: 3.2876 - val_loss: 29.4406 - val_mae: 4.4015\n",
            "Epoch 37/200\n",
            "11/11 [==============================] - 0s 6ms/step - loss: 23.5210 - mae: 3.3971 - val_loss: 26.2380 - val_mae: 3.5313\n",
            "Epoch 38/200\n",
            "11/11 [==============================] - 0s 7ms/step - loss: 22.3101 - mae: 3.1667 - val_loss: 22.6287 - val_mae: 3.4225\n",
            "Epoch 39/200\n",
            "11/11 [==============================] - 0s 7ms/step - loss: 21.9244 - mae: 3.2464 - val_loss: 22.2187 - val_mae: 3.3474\n",
            "Epoch 40/200\n",
            "11/11 [==============================] - 0s 7ms/step - loss: 22.1093 - mae: 3.2783 - val_loss: 22.3934 - val_mae: 3.4978\n",
            "Epoch 41/200\n",
            "11/11 [==============================] - 0s 7ms/step - loss: 21.2783 - mae: 3.1895 - val_loss: 21.6050 - val_mae: 3.1557\n",
            "Epoch 42/200\n",
            "11/11 [==============================] - 0s 6ms/step - loss: 21.1413 - mae: 3.2162 - val_loss: 21.2835 - val_mae: 3.2770\n",
            "Epoch 43/200\n",
            "11/11 [==============================] - 0s 8ms/step - loss: 21.1451 - mae: 3.2016 - val_loss: 21.4049 - val_mae: 3.4073\n",
            "Epoch 44/200\n",
            "11/11 [==============================] - 0s 6ms/step - loss: 20.6615 - mae: 3.2024 - val_loss: 21.6415 - val_mae: 3.5068\n",
            "Epoch 45/200\n",
            "11/11 [==============================] - 0s 6ms/step - loss: 20.6437 - mae: 3.1778 - val_loss: 21.7501 - val_mae: 3.1895\n",
            "Epoch 46/200\n",
            "11/11 [==============================] - 0s 7ms/step - loss: 20.5021 - mae: 3.0168 - val_loss: 21.6047 - val_mae: 3.1764\n",
            "Epoch 47/200\n",
            "11/11 [==============================] - 0s 6ms/step - loss: 19.7931 - mae: 3.0194 - val_loss: 21.4894 - val_mae: 3.1732\n",
            "Epoch 48/200\n",
            "11/11 [==============================] - 0s 6ms/step - loss: 19.8860 - mae: 3.0863 - val_loss: 19.7986 - val_mae: 3.1342\n",
            "Epoch 49/200\n",
            "11/11 [==============================] - 0s 8ms/step - loss: 19.5028 - mae: 3.0686 - val_loss: 20.9982 - val_mae: 3.1588\n",
            "Epoch 50/200\n",
            "11/11 [==============================] - 0s 6ms/step - loss: 19.3900 - mae: 3.0544 - val_loss: 22.7374 - val_mae: 3.3564\n",
            "Epoch 51/200\n",
            "11/11 [==============================] - 0s 6ms/step - loss: 19.0565 - mae: 2.9800 - val_loss: 26.0823 - val_mae: 3.7039\n",
            "Epoch 52/200\n",
            "11/11 [==============================] - 0s 7ms/step - loss: 20.0020 - mae: 3.0466 - val_loss: 19.4042 - val_mae: 3.0507\n",
            "Epoch 53/200\n",
            "11/11 [==============================] - 0s 7ms/step - loss: 18.7949 - mae: 3.0069 - val_loss: 19.2701 - val_mae: 3.0525\n",
            "Epoch 54/200\n",
            "11/11 [==============================] - 0s 6ms/step - loss: 18.6285 - mae: 2.9762 - val_loss: 18.9845 - val_mae: 3.0234\n",
            "Epoch 55/200\n",
            "11/11 [==============================] - 0s 6ms/step - loss: 18.2929 - mae: 2.9347 - val_loss: 18.2923 - val_mae: 2.9790\n",
            "Epoch 56/200\n",
            "11/11 [==============================] - 0s 6ms/step - loss: 18.5772 - mae: 3.0032 - val_loss: 21.5115 - val_mae: 3.2805\n",
            "Epoch 57/200\n",
            "11/11 [==============================] - 0s 6ms/step - loss: 18.5310 - mae: 2.9452 - val_loss: 18.2369 - val_mae: 2.9594\n",
            "Epoch 58/200\n",
            "11/11 [==============================] - 0s 7ms/step - loss: 17.8114 - mae: 2.9185 - val_loss: 19.9774 - val_mae: 3.3920\n",
            "Epoch 59/200\n",
            "11/11 [==============================] - 0s 7ms/step - loss: 18.3727 - mae: 2.9746 - val_loss: 18.1225 - val_mae: 3.0753\n",
            "Epoch 60/200\n",
            "11/11 [==============================] - 0s 7ms/step - loss: 17.5188 - mae: 2.8615 - val_loss: 20.9460 - val_mae: 3.5297\n",
            "Epoch 61/200\n",
            "11/11 [==============================] - 0s 6ms/step - loss: 18.0197 - mae: 3.0350 - val_loss: 18.2735 - val_mae: 2.9472\n",
            "Epoch 62/200\n",
            "11/11 [==============================] - 0s 7ms/step - loss: 17.3845 - mae: 2.8802 - val_loss: 18.6788 - val_mae: 3.2062\n",
            "Epoch 63/200\n",
            "11/11 [==============================] - 0s 7ms/step - loss: 17.5396 - mae: 2.9409 - val_loss: 18.5904 - val_mae: 2.9920\n",
            "Epoch 64/200\n",
            "11/11 [==============================] - 0s 6ms/step - loss: 17.2101 - mae: 2.8763 - val_loss: 20.5664 - val_mae: 3.5031\n",
            "Epoch 65/200\n",
            "11/11 [==============================] - 0s 6ms/step - loss: 16.9077 - mae: 2.8924 - val_loss: 17.4213 - val_mae: 2.9440\n",
            "Epoch 66/200\n",
            "11/11 [==============================] - 0s 7ms/step - loss: 16.9160 - mae: 2.8393 - val_loss: 19.7103 - val_mae: 3.1441\n",
            "Epoch 67/200\n",
            "11/11 [==============================] - 0s 6ms/step - loss: 16.7644 - mae: 2.8130 - val_loss: 23.6512 - val_mae: 3.5580\n",
            "Epoch 68/200\n",
            "11/11 [==============================] - 0s 7ms/step - loss: 17.0166 - mae: 2.8234 - val_loss: 18.3327 - val_mae: 2.9852\n",
            "Epoch 69/200\n",
            "11/11 [==============================] - 0s 6ms/step - loss: 16.3632 - mae: 2.8158 - val_loss: 23.4778 - val_mae: 3.8419\n",
            "Epoch 70/200\n",
            "11/11 [==============================] - 0s 7ms/step - loss: 17.2508 - mae: 2.9794 - val_loss: 17.4755 - val_mae: 2.9111\n",
            "Epoch 71/200\n",
            "11/11 [==============================] - 0s 6ms/step - loss: 15.9490 - mae: 2.7497 - val_loss: 19.1156 - val_mae: 3.3073\n",
            "Epoch 72/200\n",
            "11/11 [==============================] - 0s 6ms/step - loss: 16.3328 - mae: 2.8686 - val_loss: 20.4883 - val_mae: 3.2488\n",
            "Epoch 73/200\n",
            "11/11 [==============================] - 0s 6ms/step - loss: 16.4177 - mae: 2.8199 - val_loss: 19.0050 - val_mae: 3.1087\n",
            "Epoch 74/200\n",
            "11/11 [==============================] - 0s 6ms/step - loss: 16.1261 - mae: 2.7637 - val_loss: 18.7481 - val_mae: 3.0937\n",
            "Epoch 75/200\n",
            "11/11 [==============================] - 0s 6ms/step - loss: 15.7294 - mae: 2.7487 - val_loss: 16.7221 - val_mae: 2.8608\n",
            "Epoch 76/200\n",
            "11/11 [==============================] - 0s 6ms/step - loss: 15.4742 - mae: 2.7084 - val_loss: 17.6235 - val_mae: 2.9764\n",
            "Epoch 77/200\n",
            "11/11 [==============================] - 0s 6ms/step - loss: 15.5529 - mae: 2.6937 - val_loss: 17.3388 - val_mae: 3.0900\n",
            "Epoch 78/200\n",
            "11/11 [==============================] - 0s 7ms/step - loss: 15.0616 - mae: 2.7198 - val_loss: 20.7602 - val_mae: 3.5457\n",
            "Epoch 79/200\n",
            "11/11 [==============================] - 0s 8ms/step - loss: 15.3805 - mae: 2.8166 - val_loss: 16.5226 - val_mae: 2.8355\n",
            "Epoch 80/200\n",
            "11/11 [==============================] - 0s 6ms/step - loss: 14.8078 - mae: 2.6834 - val_loss: 15.8341 - val_mae: 2.7942\n",
            "Epoch 81/200\n",
            "11/11 [==============================] - 0s 7ms/step - loss: 14.4662 - mae: 2.6719 - val_loss: 18.2574 - val_mae: 3.2555\n",
            "Epoch 82/200\n",
            "11/11 [==============================] - 0s 7ms/step - loss: 15.0247 - mae: 2.7660 - val_loss: 16.1210 - val_mae: 2.8143\n",
            "Epoch 83/200\n",
            "11/11 [==============================] - 0s 7ms/step - loss: 14.0412 - mae: 2.6286 - val_loss: 17.4703 - val_mae: 3.0112\n",
            "Epoch 84/200\n",
            "11/11 [==============================] - 0s 6ms/step - loss: 14.8222 - mae: 2.7112 - val_loss: 15.7654 - val_mae: 2.8079\n",
            "Epoch 85/200\n",
            "11/11 [==============================] - 0s 6ms/step - loss: 14.3341 - mae: 2.6601 - val_loss: 19.6387 - val_mae: 3.2614\n",
            "Epoch 86/200\n",
            "11/11 [==============================] - 0s 6ms/step - loss: 14.5242 - mae: 2.6159 - val_loss: 17.6182 - val_mae: 3.1520\n",
            "Epoch 87/200\n",
            "11/11 [==============================] - 0s 7ms/step - loss: 13.8851 - mae: 2.6517 - val_loss: 19.4517 - val_mae: 3.3956\n",
            "Epoch 88/200\n",
            "11/11 [==============================] - 0s 6ms/step - loss: 14.1013 - mae: 2.6096 - val_loss: 15.3947 - val_mae: 2.8268\n",
            "Epoch 89/200\n",
            "11/11 [==============================] - 0s 6ms/step - loss: 13.7039 - mae: 2.5500 - val_loss: 17.1775 - val_mae: 2.9972\n",
            "Epoch 90/200\n",
            "11/11 [==============================] - 0s 7ms/step - loss: 13.7865 - mae: 2.5543 - val_loss: 15.3905 - val_mae: 2.8236\n",
            "Epoch 91/200\n",
            "11/11 [==============================] - 0s 7ms/step - loss: 13.2172 - mae: 2.5097 - val_loss: 22.4113 - val_mae: 3.6304\n",
            "Epoch 92/200\n",
            "11/11 [==============================] - 0s 6ms/step - loss: 13.9331 - mae: 2.6301 - val_loss: 15.4746 - val_mae: 2.7808\n",
            "Epoch 93/200\n",
            "11/11 [==============================] - 0s 7ms/step - loss: 13.0055 - mae: 2.5363 - val_loss: 14.6507 - val_mae: 2.6824\n",
            "Epoch 94/200\n",
            "11/11 [==============================] - 0s 6ms/step - loss: 13.2186 - mae: 2.5419 - val_loss: 15.2544 - val_mae: 2.7207\n",
            "Epoch 95/200\n",
            "11/11 [==============================] - 0s 7ms/step - loss: 12.8106 - mae: 2.4936 - val_loss: 17.5294 - val_mae: 3.0700\n",
            "Epoch 96/200\n",
            "11/11 [==============================] - 0s 6ms/step - loss: 12.7202 - mae: 2.4759 - val_loss: 20.2872 - val_mae: 3.4095\n",
            "Epoch 97/200\n",
            "11/11 [==============================] - 0s 7ms/step - loss: 13.4294 - mae: 2.5181 - val_loss: 16.2499 - val_mae: 2.9249\n",
            "Epoch 98/200\n",
            "11/11 [==============================] - 0s 6ms/step - loss: 12.2970 - mae: 2.4284 - val_loss: 15.0666 - val_mae: 2.7608\n",
            "Epoch 99/200\n",
            "11/11 [==============================] - 0s 6ms/step - loss: 12.3844 - mae: 2.4576 - val_loss: 15.4588 - val_mae: 2.8415\n",
            "Epoch 100/200\n",
            "11/11 [==============================] - 0s 6ms/step - loss: 11.9244 - mae: 2.4037 - val_loss: 16.3879 - val_mae: 2.9358\n",
            "Epoch 101/200\n",
            "11/11 [==============================] - 0s 6ms/step - loss: 12.0733 - mae: 2.4705 - val_loss: 15.7290 - val_mae: 2.8977\n",
            "Epoch 102/200\n",
            "11/11 [==============================] - 0s 7ms/step - loss: 11.9759 - mae: 2.4031 - val_loss: 15.1308 - val_mae: 2.8062\n",
            "Epoch 103/200\n",
            "11/11 [==============================] - 0s 7ms/step - loss: 11.6644 - mae: 2.4121 - val_loss: 16.3801 - val_mae: 2.9588\n",
            "Epoch 104/200\n",
            "11/11 [==============================] - 0s 6ms/step - loss: 12.0509 - mae: 2.4078 - val_loss: 16.4353 - val_mae: 2.9452\n",
            "Epoch 105/200\n",
            "11/11 [==============================] - 0s 6ms/step - loss: 11.8371 - mae: 2.3742 - val_loss: 18.1284 - val_mae: 3.2177\n",
            "Epoch 106/200\n",
            "11/11 [==============================] - 0s 6ms/step - loss: 11.9545 - mae: 2.3973 - val_loss: 15.7259 - val_mae: 2.9163\n",
            "Epoch 107/200\n",
            "11/11 [==============================] - 0s 6ms/step - loss: 11.6200 - mae: 2.4004 - val_loss: 14.2597 - val_mae: 2.6486\n",
            "Epoch 108/200\n",
            "11/11 [==============================] - 0s 8ms/step - loss: 11.5665 - mae: 2.3846 - val_loss: 13.9742 - val_mae: 2.6006\n",
            "Epoch 109/200\n",
            "11/11 [==============================] - 0s 6ms/step - loss: 11.0277 - mae: 2.3325 - val_loss: 19.3507 - val_mae: 3.3437\n",
            "Epoch 110/200\n",
            "11/11 [==============================] - 0s 6ms/step - loss: 12.1071 - mae: 2.4554 - val_loss: 13.8662 - val_mae: 2.6253\n",
            "Epoch 111/200\n",
            "11/11 [==============================] - 0s 8ms/step - loss: 10.9073 - mae: 2.3020 - val_loss: 13.9450 - val_mae: 2.6778\n",
            "Epoch 112/200\n",
            "11/11 [==============================] - 0s 7ms/step - loss: 10.9540 - mae: 2.3013 - val_loss: 15.3646 - val_mae: 2.8217\n",
            "Epoch 113/200\n",
            "11/11 [==============================] - 0s 7ms/step - loss: 11.2160 - mae: 2.3663 - val_loss: 14.5411 - val_mae: 2.8129\n",
            "Epoch 114/200\n",
            "11/11 [==============================] - 0s 8ms/step - loss: 11.2769 - mae: 2.3501 - val_loss: 14.6928 - val_mae: 2.7329\n",
            "Epoch 115/200\n",
            "11/11 [==============================] - 0s 6ms/step - loss: 11.6743 - mae: 2.3564 - val_loss: 13.6954 - val_mae: 2.6212\n",
            "Epoch 116/200\n",
            "11/11 [==============================] - 0s 8ms/step - loss: 10.5384 - mae: 2.2630 - val_loss: 17.3312 - val_mae: 3.1296\n",
            "Epoch 117/200\n",
            "11/11 [==============================] - 0s 5ms/step - loss: 10.7017 - mae: 2.3163 - val_loss: 16.2438 - val_mae: 2.9481\n",
            "Epoch 118/200\n",
            "11/11 [==============================] - 0s 7ms/step - loss: 10.6476 - mae: 2.2504 - val_loss: 14.4624 - val_mae: 2.6797\n",
            "Epoch 119/200\n",
            "11/11 [==============================] - 0s 6ms/step - loss: 11.4346 - mae: 2.3613 - val_loss: 14.4326 - val_mae: 2.7958\n",
            "Epoch 120/200\n",
            "11/11 [==============================] - 0s 6ms/step - loss: 10.1144 - mae: 2.2142 - val_loss: 16.0087 - val_mae: 2.9851\n",
            "Epoch 121/200\n",
            "11/11 [==============================] - 0s 7ms/step - loss: 10.5931 - mae: 2.2578 - val_loss: 13.9397 - val_mae: 2.7224\n",
            "Epoch 122/200\n",
            "11/11 [==============================] - 0s 6ms/step - loss: 10.5026 - mae: 2.2186 - val_loss: 21.2020 - val_mae: 3.5415\n",
            "Epoch 123/200\n",
            "11/11 [==============================] - 0s 6ms/step - loss: 11.6189 - mae: 2.3859 - val_loss: 14.2247 - val_mae: 2.7650\n",
            "Epoch 124/200\n",
            "11/11 [==============================] - 0s 7ms/step - loss: 10.2336 - mae: 2.2464 - val_loss: 13.5916 - val_mae: 2.6869\n",
            "Epoch 125/200\n",
            "11/11 [==============================] - 0s 6ms/step - loss: 10.2111 - mae: 2.2091 - val_loss: 13.7500 - val_mae: 2.6856\n",
            "Epoch 126/200\n",
            "11/11 [==============================] - 0s 5ms/step - loss: 10.5675 - mae: 2.3228 - val_loss: 15.5874 - val_mae: 2.8765\n",
            "Epoch 127/200\n",
            "11/11 [==============================] - 0s 5ms/step - loss: 10.1710 - mae: 2.2386 - val_loss: 13.5763 - val_mae: 2.5956\n",
            "Epoch 128/200\n",
            "11/11 [==============================] - 0s 7ms/step - loss: 10.1089 - mae: 2.2305 - val_loss: 13.8148 - val_mae: 2.7614\n",
            "Epoch 129/200\n",
            "11/11 [==============================] - 0s 7ms/step - loss: 9.7406 - mae: 2.1906 - val_loss: 13.6787 - val_mae: 2.6610\n",
            "Epoch 130/200\n",
            "11/11 [==============================] - 0s 6ms/step - loss: 10.1269 - mae: 2.2299 - val_loss: 14.1925 - val_mae: 2.6944\n",
            "Epoch 131/200\n",
            "11/11 [==============================] - 0s 7ms/step - loss: 10.0491 - mae: 2.2071 - val_loss: 13.1756 - val_mae: 2.6241\n",
            "Epoch 132/200\n",
            "11/11 [==============================] - 0s 6ms/step - loss: 9.4879 - mae: 2.1484 - val_loss: 13.2897 - val_mae: 2.5997\n",
            "Epoch 133/200\n",
            "11/11 [==============================] - 0s 6ms/step - loss: 9.6053 - mae: 2.1386 - val_loss: 13.7365 - val_mae: 2.6863\n",
            "Epoch 134/200\n",
            "11/11 [==============================] - 0s 6ms/step - loss: 9.7532 - mae: 2.1864 - val_loss: 13.1765 - val_mae: 2.5936\n",
            "Epoch 135/200\n",
            "11/11 [==============================] - 0s 7ms/step - loss: 9.8924 - mae: 2.2128 - val_loss: 14.4032 - val_mae: 2.8449\n",
            "Epoch 136/200\n",
            "11/11 [==============================] - 0s 7ms/step - loss: 9.3952 - mae: 2.1657 - val_loss: 17.4304 - val_mae: 3.1662\n",
            "Epoch 137/200\n",
            "11/11 [==============================] - 0s 7ms/step - loss: 9.7671 - mae: 2.1317 - val_loss: 14.0885 - val_mae: 2.7934\n",
            "Epoch 138/200\n",
            "11/11 [==============================] - 0s 6ms/step - loss: 9.3071 - mae: 2.1743 - val_loss: 18.1112 - val_mae: 3.2847\n",
            "Epoch 139/200\n",
            "11/11 [==============================] - 0s 5ms/step - loss: 9.6333 - mae: 2.2421 - val_loss: 12.7064 - val_mae: 2.6050\n",
            "Epoch 140/200\n",
            "11/11 [==============================] - 0s 5ms/step - loss: 9.3474 - mae: 2.1276 - val_loss: 13.1381 - val_mae: 2.6304\n",
            "Epoch 141/200\n",
            "11/11 [==============================] - 0s 7ms/step - loss: 8.7201 - mae: 2.1041 - val_loss: 16.9395 - val_mae: 3.1769\n",
            "Epoch 142/200\n",
            "11/11 [==============================] - 0s 10ms/step - loss: 9.9150 - mae: 2.2817 - val_loss: 12.8382 - val_mae: 2.6350\n",
            "Epoch 143/200\n",
            "11/11 [==============================] - 0s 9ms/step - loss: 9.1222 - mae: 2.1366 - val_loss: 13.4887 - val_mae: 2.6854\n",
            "Epoch 144/200\n",
            "11/11 [==============================] - 0s 9ms/step - loss: 8.9675 - mae: 2.0520 - val_loss: 14.5488 - val_mae: 2.8566\n",
            "Epoch 145/200\n",
            "11/11 [==============================] - 0s 9ms/step - loss: 9.6339 - mae: 2.2072 - val_loss: 12.8875 - val_mae: 2.6638\n",
            "Epoch 146/200\n",
            "11/11 [==============================] - 0s 10ms/step - loss: 8.9782 - mae: 2.1092 - val_loss: 14.3394 - val_mae: 2.7844\n",
            "Epoch 147/200\n",
            "11/11 [==============================] - 0s 10ms/step - loss: 9.6412 - mae: 2.1624 - val_loss: 15.4769 - val_mae: 2.9164\n",
            "Epoch 148/200\n",
            "11/11 [==============================] - 0s 9ms/step - loss: 8.7235 - mae: 2.1087 - val_loss: 13.1854 - val_mae: 2.6277\n",
            "Epoch 149/200\n",
            "11/11 [==============================] - 0s 9ms/step - loss: 8.6811 - mae: 2.0360 - val_loss: 12.8876 - val_mae: 2.7039\n",
            "Epoch 150/200\n",
            "11/11 [==============================] - 0s 9ms/step - loss: 8.8192 - mae: 2.0676 - val_loss: 12.9361 - val_mae: 2.6820\n",
            "Epoch 151/200\n",
            "11/11 [==============================] - 0s 8ms/step - loss: 9.2740 - mae: 2.1104 - val_loss: 12.9135 - val_mae: 2.6152\n",
            "Epoch 152/200\n",
            "11/11 [==============================] - 0s 8ms/step - loss: 8.8801 - mae: 2.0889 - val_loss: 12.4790 - val_mae: 2.5187\n",
            "Epoch 153/200\n",
            "11/11 [==============================] - 0s 10ms/step - loss: 8.8782 - mae: 2.0784 - val_loss: 13.4857 - val_mae: 2.7712\n",
            "Epoch 154/200\n",
            "11/11 [==============================] - 0s 10ms/step - loss: 8.7054 - mae: 2.0963 - val_loss: 13.5676 - val_mae: 2.7408\n",
            "Epoch 155/200\n",
            "11/11 [==============================] - 0s 9ms/step - loss: 8.7608 - mae: 2.0802 - val_loss: 12.3118 - val_mae: 2.6399\n",
            "Epoch 156/200\n",
            "11/11 [==============================] - 0s 10ms/step - loss: 8.7684 - mae: 2.0704 - val_loss: 12.7713 - val_mae: 2.6068\n",
            "Epoch 157/200\n",
            "11/11 [==============================] - 0s 9ms/step - loss: 8.4799 - mae: 1.9923 - val_loss: 16.2337 - val_mae: 2.9897\n",
            "Epoch 158/200\n",
            "11/11 [==============================] - 0s 10ms/step - loss: 9.2770 - mae: 2.1112 - val_loss: 19.3997 - val_mae: 3.3847\n",
            "Epoch 159/200\n",
            "11/11 [==============================] - 0s 9ms/step - loss: 9.6690 - mae: 2.1775 - val_loss: 14.3265 - val_mae: 2.7817\n",
            "Epoch 160/200\n",
            "11/11 [==============================] - 0s 11ms/step - loss: 8.6973 - mae: 2.0512 - val_loss: 13.6490 - val_mae: 2.7150\n",
            "Epoch 161/200\n",
            "11/11 [==============================] - 0s 9ms/step - loss: 8.3936 - mae: 2.0158 - val_loss: 13.7164 - val_mae: 2.7384\n",
            "Epoch 162/200\n",
            "11/11 [==============================] - 0s 11ms/step - loss: 8.4956 - mae: 2.0301 - val_loss: 13.0364 - val_mae: 2.6567\n",
            "Epoch 163/200\n",
            "11/11 [==============================] - 0s 7ms/step - loss: 8.5654 - mae: 2.0374 - val_loss: 12.1898 - val_mae: 2.5163\n",
            "Epoch 164/200\n",
            "11/11 [==============================] - 0s 7ms/step - loss: 8.6515 - mae: 2.0602 - val_loss: 14.6080 - val_mae: 2.8825\n",
            "Epoch 165/200\n",
            "11/11 [==============================] - 0s 7ms/step - loss: 8.4109 - mae: 2.0605 - val_loss: 12.4642 - val_mae: 2.5882\n",
            "Epoch 166/200\n",
            "11/11 [==============================] - 0s 6ms/step - loss: 8.3319 - mae: 2.0168 - val_loss: 14.5782 - val_mae: 2.8635\n",
            "Epoch 167/200\n",
            "11/11 [==============================] - 0s 5ms/step - loss: 8.0886 - mae: 2.0191 - val_loss: 14.0102 - val_mae: 2.8011\n",
            "Epoch 168/200\n",
            "11/11 [==============================] - 0s 6ms/step - loss: 8.5354 - mae: 2.0102 - val_loss: 17.5210 - val_mae: 3.2007\n",
            "Epoch 169/200\n",
            "11/11 [==============================] - 0s 5ms/step - loss: 8.7576 - mae: 2.0912 - val_loss: 13.3661 - val_mae: 2.7540\n",
            "Epoch 170/200\n",
            "11/11 [==============================] - 0s 5ms/step - loss: 8.2546 - mae: 2.0077 - val_loss: 14.3932 - val_mae: 2.8870\n",
            "Epoch 171/200\n",
            "11/11 [==============================] - 0s 5ms/step - loss: 8.2479 - mae: 2.0272 - val_loss: 15.3192 - val_mae: 2.9291\n",
            "Epoch 172/200\n",
            "11/11 [==============================] - 0s 6ms/step - loss: 7.8050 - mae: 2.0034 - val_loss: 12.3323 - val_mae: 2.6529\n",
            "Epoch 173/200\n",
            "11/11 [==============================] - 0s 7ms/step - loss: 8.6893 - mae: 2.0160 - val_loss: 14.3000 - val_mae: 2.8493\n",
            "Epoch 174/200\n",
            "11/11 [==============================] - 0s 7ms/step - loss: 8.2273 - mae: 2.0735 - val_loss: 14.9763 - val_mae: 2.9028\n",
            "Epoch 175/200\n",
            "11/11 [==============================] - 0s 5ms/step - loss: 8.3559 - mae: 1.9941 - val_loss: 14.0309 - val_mae: 2.7845\n",
            "Epoch 176/200\n",
            "11/11 [==============================] - 0s 6ms/step - loss: 8.0237 - mae: 1.9838 - val_loss: 11.7316 - val_mae: 2.5206\n",
            "Epoch 177/200\n",
            "11/11 [==============================] - 0s 6ms/step - loss: 7.7965 - mae: 1.9555 - val_loss: 23.8097 - val_mae: 3.8466\n",
            "Epoch 178/200\n",
            "11/11 [==============================] - 0s 6ms/step - loss: 9.0454 - mae: 2.0859 - val_loss: 12.0946 - val_mae: 2.5785\n",
            "Epoch 179/200\n",
            "11/11 [==============================] - 0s 6ms/step - loss: 7.4067 - mae: 1.8877 - val_loss: 28.7795 - val_mae: 4.2761\n",
            "Epoch 180/200\n",
            "11/11 [==============================] - 0s 7ms/step - loss: 9.5358 - mae: 2.2404 - val_loss: 11.9588 - val_mae: 2.4762\n",
            "Epoch 181/200\n",
            "11/11 [==============================] - 0s 7ms/step - loss: 7.6599 - mae: 1.9423 - val_loss: 12.8383 - val_mae: 2.6431\n",
            "Epoch 182/200\n",
            "11/11 [==============================] - 0s 7ms/step - loss: 8.4579 - mae: 2.0761 - val_loss: 16.6286 - val_mae: 3.1112\n",
            "Epoch 183/200\n",
            "11/11 [==============================] - 0s 7ms/step - loss: 8.1197 - mae: 2.0013 - val_loss: 15.4308 - val_mae: 2.9866\n",
            "Epoch 184/200\n",
            "11/11 [==============================] - 0s 6ms/step - loss: 8.0744 - mae: 1.9892 - val_loss: 13.1032 - val_mae: 2.6853\n",
            "Epoch 185/200\n",
            "11/11 [==============================] - 0s 7ms/step - loss: 7.9030 - mae: 1.9744 - val_loss: 13.5225 - val_mae: 2.8025\n",
            "Epoch 186/200\n",
            "11/11 [==============================] - 0s 6ms/step - loss: 7.9622 - mae: 1.9881 - val_loss: 11.9361 - val_mae: 2.5260\n",
            "Epoch 187/200\n",
            "11/11 [==============================] - 0s 6ms/step - loss: 7.6257 - mae: 1.9312 - val_loss: 11.5614 - val_mae: 2.5210\n",
            "Epoch 188/200\n",
            "11/11 [==============================] - 0s 6ms/step - loss: 7.4689 - mae: 1.8800 - val_loss: 11.1355 - val_mae: 2.4547\n",
            "Epoch 189/200\n",
            "11/11 [==============================] - 0s 6ms/step - loss: 7.4455 - mae: 1.9394 - val_loss: 10.7609 - val_mae: 2.4683\n",
            "Epoch 190/200\n",
            "11/11 [==============================] - 0s 8ms/step - loss: 7.9658 - mae: 1.9538 - val_loss: 11.4661 - val_mae: 2.5073\n",
            "Epoch 191/200\n",
            "11/11 [==============================] - 0s 7ms/step - loss: 7.3777 - mae: 1.9191 - val_loss: 11.1455 - val_mae: 2.4757\n",
            "Epoch 192/200\n",
            "11/11 [==============================] - 0s 6ms/step - loss: 7.9830 - mae: 1.9738 - val_loss: 11.6409 - val_mae: 2.5118\n",
            "Epoch 193/200\n",
            "11/11 [==============================] - 0s 6ms/step - loss: 7.3275 - mae: 1.8776 - val_loss: 12.1420 - val_mae: 2.6469\n",
            "Epoch 194/200\n",
            "11/11 [==============================] - 0s 7ms/step - loss: 8.4177 - mae: 2.0440 - val_loss: 10.7927 - val_mae: 2.4120\n",
            "Epoch 195/200\n",
            "11/11 [==============================] - 0s 8ms/step - loss: 7.7934 - mae: 1.9619 - val_loss: 12.2234 - val_mae: 2.6454\n",
            "Epoch 196/200\n",
            "11/11 [==============================] - 0s 6ms/step - loss: 7.5220 - mae: 1.9424 - val_loss: 13.4253 - val_mae: 2.8195\n",
            "Epoch 197/200\n",
            "11/11 [==============================] - 0s 6ms/step - loss: 7.6187 - mae: 1.9086 - val_loss: 11.3733 - val_mae: 2.5346\n",
            "Epoch 198/200\n",
            "11/11 [==============================] - 0s 6ms/step - loss: 7.2333 - mae: 1.8753 - val_loss: 11.7392 - val_mae: 2.5510\n",
            "Epoch 199/200\n",
            "11/11 [==============================] - 0s 6ms/step - loss: 7.4686 - mae: 1.9554 - val_loss: 12.1798 - val_mae: 2.6273\n",
            "Epoch 200/200\n",
            "11/11 [==============================] - 0s 6ms/step - loss: 7.7744 - mae: 1.9473 - val_loss: 18.7904 - val_mae: 3.3822\n"
          ]
        }
      ],
      "source": [
        "hist = model.fit(x_train, y_train, epochs=200, validation_split=0.2)"
      ]
    },
    {
      "cell_type": "code",
      "execution_count": 17,
      "id": "649a7a42",
      "metadata": {
        "colab": {
          "base_uri": "https://localhost:8080/",
          "height": 428
        },
        "id": "649a7a42",
        "outputId": "bdc4164f-5255-48ae-d803-510b46578cb7"
      },
      "outputs": [
        {
          "output_type": "display_data",
          "data": {
            "text/plain": [
              "<Figure size 1500x500 with 1 Axes>"
            ],
            "image/png": "[encoded data removed]"
          },
          "metadata": {}
        }
      ],
      "source": [
        "plt.figure(figsize=(15, 5))\n",
        "plt.plot(range(1, len(hist.history['loss']) + 1), hist.history['loss'])\n",
        "plt.plot(range(1, len(hist.history['val_loss']) + 1),\n",
        "         hist.history['val_loss'])\n",
        "plt.title('Loss Curve for Train and validation Set')\n",
        "plt.xlabel('Epoch')\n",
        "plt.ylabel('Loss')\n",
        "plt.legend(['Train Loss', 'Validation Loss'])\n",
        "plt.show()"
      ]
    },
    {
      "cell_type": "code",
      "execution_count": 18,
      "id": "e6f9d533",
      "metadata": {
        "colab": {
          "base_uri": "https://localhost:8080/",
          "height": 426
        },
        "id": "e6f9d533",
        "outputId": "d33eac0b-8e77-49c0-9945-a0d5982a943c"
      },
      "outputs": [
        {
          "output_type": "display_data",
          "data": {
            "text/plain": [
              "<Figure size 1500x500 with 1 Axes>"
            ],
            "image/png": "[encoded data removed]"
          },
          "metadata": {}
        }
      ],
      "source": [
        "plt.figure(figsize=(15, 5))\n",
        "plt.plot(range(1, len(hist.history['mae']) + 1), hist.history['mae'])\n",
        "plt.plot(range(1, len(hist.history['val_mae']) + 1),\n",
        "         hist.history['val_mae'])\n",
        "plt.title('Mean Absolute Error for Train and validation Set')\n",
        "plt.xlabel('Epoch')\n",
        "plt.ylabel('Loss')\n",
        "plt.legend(['Train MAE', 'Validation MAE'])\n",
        "plt.show()"
      ]
    },
    {
      "cell_type": "code",
      "execution_count": 19,
      "id": "1083b503",
      "metadata": {
        "scrolled": true,
        "colab": {
          "base_uri": "https://localhost:8080/"
        },
        "id": "1083b503",
        "outputId": "f713554a-f746-447b-a853-c5ffa09aa9bd"
      },
      "outputs": [
        {
          "output_type": "stream",
          "name": "stdout",
          "text": [
            "4/4 [==============================] - 0s 3ms/step - loss: 31.8219 - mae: 3.7748\n",
            "Test loss = 31.821884155273438\n",
            "Test mae = 3.7748377323150635\n"
          ]
        }
      ],
      "source": [
        "result = model.evaluate(x_test, y_test)\n",
        "for i in range(len(result)):\n",
        "    print(f'Test {model.metrics_names[i]} = {result[i]}')\n"
      ]
    },
    {
      "cell_type": "markdown",
      "id": "72d8fcff",
      "metadata": {
        "id": "72d8fcff"
      },
      "source": [
        "We'll use r2_score from scikit-learn to calculate the r-square score for out model. To know more about this function, please go through this [link](https://scikit-learn.org/stable/modules/generated/sklearn.metrics.r2_score.html)"
      ]
    },
    {
      "cell_type": "code",
      "execution_count": 20,
      "id": "c0f83a2b",
      "metadata": {
        "id": "c0f83a2b"
      },
      "outputs": [],
      "source": [
        "from sklearn.metrics import r2_score"
      ]
    },
    {
      "cell_type": "code",
      "execution_count": 21,
      "id": "16d5620d",
      "metadata": {
        "colab": {
          "base_uri": "https://localhost:8080/"
        },
        "id": "16d5620d",
        "outputId": "7057423e-d2fa-4f90-bb1c-7b17c222a063"
      },
      "outputs": [
        {
          "output_type": "stream",
          "name": "stdout",
          "text": [
            "4/4 [==============================] - 0s 3ms/step\n"
          ]
        }
      ],
      "source": [
        "y_pred = model.predict(x_test)"
      ]
    },
    {
      "cell_type": "code",
      "execution_count": 22,
      "id": "9da8c4be",
      "metadata": {
        "colab": {
          "base_uri": "https://localhost:8080/"
        },
        "id": "9da8c4be",
        "outputId": "0e5edc20-571d-4307-ea58-07755f7e258c"
      },
      "outputs": [
        {
          "output_type": "execute_result",
          "data": {
            "text/plain": [
              "0.6177268911334738"
            ]
          },
          "metadata": {},
          "execution_count": 22
        }
      ],
      "source": [
        "r2_score(y_test, y_pred)"
      ]
    }
  ],
  "metadata": {
    "kernelspec": {
      "display_name": "Python 3",
      "name": "python3"
    },
    "language_info": {
      "codemirror_mode": {
        "name": "ipython",
        "version": 3
      },
      "file_extension": ".py",
      "mimetype": "text/x-python",
      "name": "python",
      "nbconvert_exporter": "python",
      "pygments_lexer": "ipython3",
      "version": "3.9.12"
    },
    "colab": {
      "provenance": [],
      "gpuType": "T4",
      "include_colab_link": true
    },
    "accelerator": "GPU"
  },
  "nbformat": 4,
  "nbformat_minor": 5
}
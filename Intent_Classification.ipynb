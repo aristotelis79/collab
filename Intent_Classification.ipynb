{
  "nbformat": 4,
  "nbformat_minor": 0,
  "metadata": {
    "colab": {
      "provenance": [],
      "collapsed_sections": [
        "TXLqIHnNWYMN"
      ],
      "include_colab_link": true
    },
    "kernelspec": {
      "name": "python3",
      "display_name": "Python 3"
    },
    "language_info": {
      "name": "python"
    },
    "gpuClass": "standard"
  },
  "cells": [
    {
      "cell_type": "markdown",
      "metadata": {
        "id": "view-in-github",
        "colab_type": "text"
      },
      "source": [
        "<a href=\"https://colab.research.google.com/github/aristotelis79/collab/blob/main/Intent_Classification.ipynb\" target=\"_parent\"><img src=\"https://colab.research.google.com/assets/colab-badge.svg\" alt=\"Open In Colab\"/></a>"
      ]
    },
    {
      "cell_type": "markdown",
      "source": [
        "# Categorizing intent\n"
      ],
      "metadata": {
        "id": "QlJeKdJfTPMp"
      }
    },
    {
      "cell_type": "markdown",
      "source": [
        "## Setup"
      ],
      "metadata": {
        "id": "0BPO3rsP5nAF"
      }
    },
    {
      "cell_type": "markdown",
      "source": [
        "Let's first import everything and load the dataset"
      ],
      "metadata": {
        "id": "epE01e6NbbMg"
      }
    },
    {
      "cell_type": "code",
      "source": [
        "!pip install textblob 'gensim==4.2.0'\n",
        "!pip install keras.utils\n",
        "!pip install keras_preprocessing"
      ],
      "metadata": {
        "id": "Vny3vC29NVZ8",
        "colab": {
          "base_uri": "https://localhost:8080/"
        },
        "outputId": "7a1a1ad9-a401-475a-f717-04166342d517"
      },
      "execution_count": 1,
      "outputs": [
        {
          "output_type": "stream",
          "name": "stdout",
          "text": [
            "Requirement already satisfied: textblob in /usr/local/lib/python3.10/dist-packages (0.17.1)\n",
            "Collecting gensim==4.2.0\n",
            "  Downloading gensim-4.2.0-cp310-cp310-manylinux_2_17_x86_64.manylinux2014_x86_64.whl (24.0 MB)\n",
            "\u001b[2K     \u001b[90m━━━━━━━━━━━━━━━━━━━━━━━━━━━━━━━━━━━━━━━━\u001b[0m \u001b[32m24.0/24.0 MB\u001b[0m \u001b[31m31.9 MB/s\u001b[0m eta \u001b[36m0:00:00\u001b[0m\n",
            "\u001b[?25hRequirement already satisfied: numpy>=1.17.0 in /usr/local/lib/python3.10/dist-packages (from gensim==4.2.0) (1.25.2)\n",
            "Requirement already satisfied: scipy>=0.18.1 in /usr/local/lib/python3.10/dist-packages (from gensim==4.2.0) (1.11.4)\n",
            "Requirement already satisfied: smart-open>=1.8.1 in /usr/local/lib/python3.10/dist-packages (from gensim==4.2.0) (6.4.0)\n",
            "Requirement already satisfied: nltk>=3.1 in /usr/local/lib/python3.10/dist-packages (from textblob) (3.8.1)\n",
            "Requirement already satisfied: click in /usr/local/lib/python3.10/dist-packages (from nltk>=3.1->textblob) (8.1.7)\n",
            "Requirement already satisfied: joblib in /usr/local/lib/python3.10/dist-packages (from nltk>=3.1->textblob) (1.4.0)\n",
            "Requirement already satisfied: regex>=2021.8.3 in /usr/local/lib/python3.10/dist-packages (from nltk>=3.1->textblob) (2023.12.25)\n",
            "Requirement already satisfied: tqdm in /usr/local/lib/python3.10/dist-packages (from nltk>=3.1->textblob) (4.66.2)\n",
            "Installing collected packages: gensim\n",
            "  Attempting uninstall: gensim\n",
            "    Found existing installation: gensim 4.3.2\n",
            "    Uninstalling gensim-4.3.2:\n",
            "      Successfully uninstalled gensim-4.3.2\n",
            "Successfully installed gensim-4.2.0\n",
            "Collecting keras.utils\n",
            "  Downloading keras-utils-1.0.13.tar.gz (2.4 kB)\n",
            "  Preparing metadata (setup.py) ... \u001b[?25l\u001b[?25hdone\n",
            "Requirement already satisfied: Keras>=2.1.5 in /usr/local/lib/python3.10/dist-packages (from keras.utils) (2.15.0)\n",
            "Building wheels for collected packages: keras.utils\n",
            "  Building wheel for keras.utils (setup.py) ... \u001b[?25l\u001b[?25hdone\n",
            "  Created wheel for keras.utils: filename=keras_utils-1.0.13-py3-none-any.whl size=2631 sha256=e6bcc8f544314b9b426d25ea068321966f5dc338bb97c416357a447d99fa5b58\n",
            "  Stored in directory: /root/.cache/pip/wheels/5c/c0/b3/0c332de4fd71f3733ea6d61697464b7ae4b2b5ff0300e6ca7a\n",
            "Successfully built keras.utils\n",
            "Installing collected packages: keras.utils\n",
            "Successfully installed keras.utils-1.0.13\n",
            "Collecting keras_preprocessing\n",
            "  Downloading Keras_Preprocessing-1.1.2-py2.py3-none-any.whl (42 kB)\n",
            "\u001b[2K     \u001b[90m━━━━━━━━━━━━━━━━━━━━━━━━━━━━━━━━━━━━━━━━\u001b[0m \u001b[32m42.6/42.6 kB\u001b[0m \u001b[31m645.7 kB/s\u001b[0m eta \u001b[36m0:00:00\u001b[0m\n",
            "\u001b[?25hRequirement already satisfied: numpy>=1.9.1 in /usr/local/lib/python3.10/dist-packages (from keras_preprocessing) (1.25.2)\n",
            "Requirement already satisfied: six>=1.9.0 in /usr/local/lib/python3.10/dist-packages (from keras_preprocessing) (1.16.0)\n",
            "Installing collected packages: keras_preprocessing\n",
            "Successfully installed keras_preprocessing-1.1.2\n"
          ]
        }
      ]
    },
    {
      "cell_type": "code",
      "execution_count": 2,
      "metadata": {
        "colab": {
          "base_uri": "https://localhost:8080/"
        },
        "id": "ri00gAaqSzrq",
        "outputId": "480014b3-f92c-4ce2-9242-67981db99136"
      },
      "outputs": [
        {
          "output_type": "stream",
          "name": "stderr",
          "text": [
            "[nltk_data] Downloading package punkt to /root/nltk_data...\n",
            "[nltk_data]   Unzipping tokenizers/punkt.zip.\n"
          ]
        }
      ],
      "source": [
        "import multiprocessing\n",
        "import tensorflow as tf\n",
        "import sys\n",
        "import tensorflow.python.keras.backend as K\n",
        "from keras.models import Sequential\n",
        "from keras.layers import Dense, Embedding, Lambda, Input\n",
        "from keras import utils\n",
        "from keras.preprocessing import sequence\n",
        "from keras.preprocessing.text import Tokenizer\n",
        "from textblob import TextBlob, Word\n",
        "from keras_preprocessing.sequence import pad_sequences\n",
        "from keras.initializers import Constant\n",
        "from sklearn.feature_extraction.text import CountVectorizer\n",
        "from tensorflow.nn import leaky_relu\n",
        "import numpy as np\n",
        "import re\n",
        "import random\n",
        "import os\n",
        "import pandas as pd\n",
        "import gensim\n",
        "import warnings\n",
        "import nltk\n",
        "\n",
        "epochs = 100\n",
        "embedding_dim = 100\n",
        "TRACE = False\n",
        "\n",
        "def set_seeds_and_trace():\n",
        "  os.environ['PYTHONHASHSEED'] = '0'\n",
        "  np.random.seed(42)\n",
        "  tf.random.set_seed(42)\n",
        "  random.seed(42)\n",
        "  if TRACE:\n",
        "    tf.debugging.set_log_device_placement(True)\n",
        "\n",
        "def set_session_with_gpus_and_cores():\n",
        "  cores = multiprocessing.cpu_count()\n",
        "  gpus = len(tf.config.list_physical_devices('GPU'))\n",
        "  config = tf.compat.v1.ConfigProto( device_count = {'GPU': gpus  , 'CPU': cores} , intra_op_parallelism_threads=1, inter_op_parallelism_threads=1)\n",
        "  sess = tf.compat.v1.Session(config=config)\n",
        "  K.set_session(sess)\n",
        "\n",
        "set_seeds_and_trace()\n",
        "set_session_with_gpus_and_cores()\n",
        "warnings.filterwarnings('ignore')\n",
        "nltk.download('punkt')\n",
        "textblob_tokenizer = lambda x: TextBlob(x).words"
      ]
    },
    {
      "cell_type": "markdown",
      "source": [
        "Now we will download the dataset and explore it"
      ],
      "metadata": {
        "id": "8L6HlScpFdd9"
      }
    },
    {
      "cell_type": "code",
      "source": [
        "%%writefile get_data.sh\n",
        "if [ ! -f intents.csv ]; then\n",
        "  wget -O intents.csv https://www.dropbox.com/s/smy3os4px8ionkx/atis_intents.csv?dl=0\n",
        "fi\n",
        "\n",
        "if [ ! -f glove.6B.100d.txt ]; then\n",
        "  wget -O glove.6B.100d.txt https://www.dropbox.com/s/dl1vswq2sz5f1ws/glove.6B.100d.txt?dl=0\n",
        "fi"
      ],
      "metadata": {
        "colab": {
          "base_uri": "https://localhost:8080/"
        },
        "id": "aHuUsDMlTXhM",
        "outputId": "589e0f59-2b44-4e25-f94d-678b668f27b8"
      },
      "execution_count": 3,
      "outputs": [
        {
          "output_type": "stream",
          "name": "stdout",
          "text": [
            "Writing get_data.sh\n"
          ]
        }
      ]
    },
    {
      "cell_type": "code",
      "source": [
        "!bash get_data.sh\n"
      ],
      "metadata": {
        "id": "Uq4-oO3KTnbQ",
        "outputId": "199b8b62-8565-45aa-ce4f-4a31c2e39c90",
        "colab": {
          "base_uri": "https://localhost:8080/"
        }
      },
      "execution_count": 4,
      "outputs": [
        {
          "output_type": "stream",
          "name": "stdout",
          "text": [
            "--2024-04-28 07:47:40--  https://www.dropbox.com/s/smy3os4px8ionkx/atis_intents.csv?dl=0\n",
            "Resolving www.dropbox.com (www.dropbox.com)... 162.125.3.18, 2620:100:6018:18::a27d:312\n",
            "Connecting to www.dropbox.com (www.dropbox.com)|162.125.3.18|:443... connected.\n",
            "HTTP request sent, awaiting response... 302 Found\n",
            "Location: /s/raw/smy3os4px8ionkx/atis_intents.csv [following]\n",
            "--2024-04-28 07:47:40--  https://www.dropbox.com/s/raw/smy3os4px8ionkx/atis_intents.csv\n",
            "Reusing existing connection to www.dropbox.com:443.\n",
            "HTTP request sent, awaiting response... 302 Found\n",
            "Location: https://uc1187b2d13f3a6a4d2890f8bd66.dl.dropboxusercontent.com/cd/0/inline/CR2i8DeDscvZZaFYDNtTZYd63TigTjjdWN15p_I6MOjPV2YQPkhENsE5csjh517MhuCPGUs3GdWZCeovP7lA5QK_2uR-nmgR_ed3MJmeoSv_XOgGVXO2BFGZuTtAVAGPE_WLj2kQELv-jZFmIdqOlzO2/file# [following]\n",
            "--2024-04-28 07:47:41--  https://uc1187b2d13f3a6a4d2890f8bd66.dl.dropboxusercontent.com/cd/0/inline/CR2i8DeDscvZZaFYDNtTZYd63TigTjjdWN15p_I6MOjPV2YQPkhENsE5csjh517MhuCPGUs3GdWZCeovP7lA5QK_2uR-nmgR_ed3MJmeoSv_XOgGVXO2BFGZuTtAVAGPE_WLj2kQELv-jZFmIdqOlzO2/file\n",
            "Resolving uc1187b2d13f3a6a4d2890f8bd66.dl.dropboxusercontent.com (uc1187b2d13f3a6a4d2890f8bd66.dl.dropboxusercontent.com)... 162.125.3.15, 2620:100:6018:15::a27d:30f\n",
            "Connecting to uc1187b2d13f3a6a4d2890f8bd66.dl.dropboxusercontent.com (uc1187b2d13f3a6a4d2890f8bd66.dl.dropboxusercontent.com)|162.125.3.15|:443... connected.\n",
            "HTTP request sent, awaiting response... 200 OK\n",
            "Length: 391936 (383K) [text/plain]\n",
            "Saving to: ‘intents.csv’\n",
            "\n",
            "intents.csv         100%[===================>] 382.75K  --.-KB/s    in 0.05s   \n",
            "\n",
            "2024-04-28 07:47:41 (8.05 MB/s) - ‘intents.csv’ saved [391936/391936]\n",
            "\n",
            "--2024-04-28 07:47:41--  https://www.dropbox.com/s/dl1vswq2sz5f1ws/glove.6B.100d.txt?dl=0\n",
            "Resolving www.dropbox.com (www.dropbox.com)... 162.125.3.18, 2620:100:6018:18::a27d:312\n",
            "Connecting to www.dropbox.com (www.dropbox.com)|162.125.3.18|:443... connected.\n",
            "HTTP request sent, awaiting response... 302 Found\n",
            "Location: /s/raw/dl1vswq2sz5f1ws/glove.6B.100d.txt [following]\n",
            "--2024-04-28 07:47:41--  https://www.dropbox.com/s/raw/dl1vswq2sz5f1ws/glove.6B.100d.txt\n",
            "Reusing existing connection to www.dropbox.com:443.\n",
            "HTTP request sent, awaiting response... 302 Found\n",
            "Location: https://uc8de4293298bed58f9922a580ee.dl.dropboxusercontent.com/cd/0/inline/CR31VMr8Sf-JpKAfSfxnq6gZQEbonr2OzPNWDVl2FR3-EeKKgJLb7JD9pTiHQ9hB9jl9_x7apXKiNfXOW3EDQSywDRgx4mUVUGnIJ7KB6Jeh2CpwIxyxGwM8peTgRiWYDfeI6WIQttbCHygmaoUjD4Hy/file# [following]\n",
            "--2024-04-28 07:47:42--  https://uc8de4293298bed58f9922a580ee.dl.dropboxusercontent.com/cd/0/inline/CR31VMr8Sf-JpKAfSfxnq6gZQEbonr2OzPNWDVl2FR3-EeKKgJLb7JD9pTiHQ9hB9jl9_x7apXKiNfXOW3EDQSywDRgx4mUVUGnIJ7KB6Jeh2CpwIxyxGwM8peTgRiWYDfeI6WIQttbCHygmaoUjD4Hy/file\n",
            "Resolving uc8de4293298bed58f9922a580ee.dl.dropboxusercontent.com (uc8de4293298bed58f9922a580ee.dl.dropboxusercontent.com)... 162.125.3.15, 2620:100:6018:15::a27d:30f\n",
            "Connecting to uc8de4293298bed58f9922a580ee.dl.dropboxusercontent.com (uc8de4293298bed58f9922a580ee.dl.dropboxusercontent.com)|162.125.3.15|:443... connected.\n",
            "HTTP request sent, awaiting response... 200 OK\n",
            "Length: 347117594 (331M) [text/plain]\n",
            "Saving to: ‘glove.6B.100d.txt’\n",
            "\n",
            "glove.6B.100d.txt   100%[===================>] 331.04M  91.4MB/s    in 3.6s    \n",
            "\n",
            "2024-04-28 07:47:46 (91.0 MB/s) - ‘glove.6B.100d.txt’ saved [347117594/347117594]\n",
            "\n"
          ]
        }
      ]
    },
    {
      "cell_type": "markdown",
      "source": [
        "Let's inspect how this intents csv looks like"
      ],
      "metadata": {
        "id": "9vzvhu6Irw_O"
      }
    },
    {
      "cell_type": "code",
      "source": [
        "! head intents.csv"
      ],
      "metadata": {
        "colab": {
          "base_uri": "https://localhost:8080/"
        },
        "id": "p4IB-iA50ZUc",
        "outputId": "68d29cf8-3764-4061-8e48-3cc9e936a953"
      },
      "execution_count": 5,
      "outputs": [
        {
          "output_type": "stream",
          "name": "stdout",
          "text": [
            "atis_flight, i want to fly from boston at 838 am and arrive in denver at 1110 in the morning\n",
            "atis_flight, what flights are available from pittsburgh to baltimore on thursday morning\n",
            "atis_flight_time, what is the arrival time in san francisco for the 755 am flight leaving washington\n",
            "atis_airfare, cheapest airfare from tacoma to orlando\n",
            "atis_airfare, round trip fares from pittsburgh to philadelphia under 1000 dollars\n",
            "atis_flight, i need a flight tomorrow from columbus to minneapolis\n",
            "atis_aircraft, what kind of aircraft is used on a flight from cleveland to dallas\n",
            "atis_flight, show me the flights from pittsburgh to los angeles on thursday\n",
            "atis_flight, all flights from boston to washington\n",
            "atis_ground_service, what kind of ground transportation is available in denver\n"
          ]
        }
      ]
    },
    {
      "cell_type": "code",
      "source": [
        "def preprocess_text(text, should_join=True):\n",
        "    text = ' '.join(str(word) for word in textblob_tokenizer(text))\n",
        "    text = re.sub(r\"([.,!?])\", r\" \\1 \", text)\n",
        "    text = re.sub(r\"[^a-zA-Z.,!?]+\", r\" \", text)\n",
        "    if should_join:\n",
        "      return ' '.join(gensim.utils.simple_preprocess(text))\n",
        "    else:\n",
        "      return gensim.utils.simple_preprocess(text)"
      ],
      "metadata": {
        "id": "CCXNQ8yT8AMn"
      },
      "execution_count": 6,
      "outputs": []
    },
    {
      "cell_type": "code",
      "source": [
        "path = './intents.csv'\n",
        "intents = pd.read_csv(path, header=None, names=[\"intent\", \"query\"])\n",
        "intents"
      ],
      "metadata": {
        "id": "i32aK_G6TZl9",
        "colab": {
          "base_uri": "https://localhost:8080/",
          "height": 424
        },
        "outputId": "a02a5d59-8afe-4f3b-da77-af03e04fd4ba"
      },
      "execution_count": 7,
      "outputs": [
        {
          "output_type": "execute_result",
          "data": {
            "text/plain": [
              "                intent                                              query\n",
              "0          atis_flight   i want to fly from boston at 838 am and arriv...\n",
              "1          atis_flight   what flights are available from pittsburgh to...\n",
              "2     atis_flight_time   what is the arrival time in san francisco for...\n",
              "3         atis_airfare            cheapest airfare from tacoma to orlando\n",
              "4         atis_airfare   round trip fares from pittsburgh to philadelp...\n",
              "...                ...                                                ...\n",
              "4973      atis_airfare   what is the airfare for flights from denver t...\n",
              "4974       atis_flight   do you have any flights from denver to baltim...\n",
              "4975      atis_airline          which airlines fly into and out of denver\n",
              "4976       atis_flight   does continental fly from boston to san franc...\n",
              "4977       atis_flight   is there a delta flight from denver to san fr...\n",
              "\n",
              "[4978 rows x 2 columns]"
            ],
            "text/html": [
              "\n",
              "  <div id=\"df-57c4e017-a8fc-40e8-b5d5-df5375607a8d\" class=\"colab-df-container\">\n",
              "    <div>\n",
              "<style scoped>\n",
              "    .dataframe tbody tr th:only-of-type {\n",
              "        vertical-align: middle;\n",
              "    }\n",
              "\n",
              "    .dataframe tbody tr th {\n",
              "        vertical-align: top;\n",
              "    }\n",
              "\n",
              "    .dataframe thead th {\n",
              "        text-align: right;\n",
              "    }\n",
              "</style>\n",
              "<table border=\"1\" class=\"dataframe\">\n",
              "  <thead>\n",
              "    <tr style=\"text-align: right;\">\n",
              "      <th></th>\n",
              "      <th>intent</th>\n",
              "      <th>query</th>\n",
              "    </tr>\n",
              "  </thead>\n",
              "  <tbody>\n",
              "    <tr>\n",
              "      <th>0</th>\n",
              "      <td>atis_flight</td>\n",
              "      <td>i want to fly from boston at 838 am and arriv...</td>\n",
              "    </tr>\n",
              "    <tr>\n",
              "      <th>1</th>\n",
              "      <td>atis_flight</td>\n",
              "      <td>what flights are available from pittsburgh to...</td>\n",
              "    </tr>\n",
              "    <tr>\n",
              "      <th>2</th>\n",
              "      <td>atis_flight_time</td>\n",
              "      <td>what is the arrival time in san francisco for...</td>\n",
              "    </tr>\n",
              "    <tr>\n",
              "      <th>3</th>\n",
              "      <td>atis_airfare</td>\n",
              "      <td>cheapest airfare from tacoma to orlando</td>\n",
              "    </tr>\n",
              "    <tr>\n",
              "      <th>4</th>\n",
              "      <td>atis_airfare</td>\n",
              "      <td>round trip fares from pittsburgh to philadelp...</td>\n",
              "    </tr>\n",
              "    <tr>\n",
              "      <th>...</th>\n",
              "      <td>...</td>\n",
              "      <td>...</td>\n",
              "    </tr>\n",
              "    <tr>\n",
              "      <th>4973</th>\n",
              "      <td>atis_airfare</td>\n",
              "      <td>what is the airfare for flights from denver t...</td>\n",
              "    </tr>\n",
              "    <tr>\n",
              "      <th>4974</th>\n",
              "      <td>atis_flight</td>\n",
              "      <td>do you have any flights from denver to baltim...</td>\n",
              "    </tr>\n",
              "    <tr>\n",
              "      <th>4975</th>\n",
              "      <td>atis_airline</td>\n",
              "      <td>which airlines fly into and out of denver</td>\n",
              "    </tr>\n",
              "    <tr>\n",
              "      <th>4976</th>\n",
              "      <td>atis_flight</td>\n",
              "      <td>does continental fly from boston to san franc...</td>\n",
              "    </tr>\n",
              "    <tr>\n",
              "      <th>4977</th>\n",
              "      <td>atis_flight</td>\n",
              "      <td>is there a delta flight from denver to san fr...</td>\n",
              "    </tr>\n",
              "  </tbody>\n",
              "</table>\n",
              "<p>4978 rows × 2 columns</p>\n",
              "</div>\n",
              "    <div class=\"colab-df-buttons\">\n",
              "\n",
              "  <div class=\"colab-df-container\">\n",
              "    <button class=\"colab-df-convert\" onclick=\"convertToInteractive('df-57c4e017-a8fc-40e8-b5d5-df5375607a8d')\"\n",
              "            title=\"Convert this dataframe to an interactive table.\"\n",
              "            style=\"display:none;\">\n",
              "\n",
              "  <svg xmlns=\"http://www.w3.org/2000/svg\" height=\"24px\" viewBox=\"0 -960 960 960\">\n",
              "    <path d=\"M120-120v-720h720v720H120Zm60-500h600v-160H180v160Zm220 220h160v-160H400v160Zm0 220h160v-160H400v160ZM180-400h160v-160H180v160Zm440 0h160v-160H620v160ZM180-180h160v-160H180v160Zm440 0h160v-160H620v160Z\"/>\n",
              "  </svg>\n",
              "    </button>\n",
              "\n",
              "  <style>\n",
              "    .colab-df-container {\n",
              "      display:flex;\n",
              "      gap: 12px;\n",
              "    }\n",
              "\n",
              "    .colab-df-convert {\n",
              "      background-color: #E8F0FE;\n",
              "      border: none;\n",
              "      border-radius: 50%;\n",
              "      cursor: pointer;\n",
              "      display: none;\n",
              "      fill: #1967D2;\n",
              "      height: 32px;\n",
              "      padding: 0 0 0 0;\n",
              "      width: 32px;\n",
              "    }\n",
              "\n",
              "    .colab-df-convert:hover {\n",
              "      background-color: #E2EBFA;\n",
              "      box-shadow: 0px 1px 2px rgba(60, 64, 67, 0.3), 0px 1px 3px 1px rgba(60, 64, 67, 0.15);\n",
              "      fill: #174EA6;\n",
              "    }\n",
              "\n",
              "    .colab-df-buttons div {\n",
              "      margin-bottom: 4px;\n",
              "    }\n",
              "\n",
              "    [theme=dark] .colab-df-convert {\n",
              "      background-color: #3B4455;\n",
              "      fill: #D2E3FC;\n",
              "    }\n",
              "\n",
              "    [theme=dark] .colab-df-convert:hover {\n",
              "      background-color: #434B5C;\n",
              "      box-shadow: 0px 1px 3px 1px rgba(0, 0, 0, 0.15);\n",
              "      filter: drop-shadow(0px 1px 2px rgba(0, 0, 0, 0.3));\n",
              "      fill: #FFFFFF;\n",
              "    }\n",
              "  </style>\n",
              "\n",
              "    <script>\n",
              "      const buttonEl =\n",
              "        document.querySelector('#df-57c4e017-a8fc-40e8-b5d5-df5375607a8d button.colab-df-convert');\n",
              "      buttonEl.style.display =\n",
              "        google.colab.kernel.accessAllowed ? 'block' : 'none';\n",
              "\n",
              "      async function convertToInteractive(key) {\n",
              "        const element = document.querySelector('#df-57c4e017-a8fc-40e8-b5d5-df5375607a8d');\n",
              "        const dataTable =\n",
              "          await google.colab.kernel.invokeFunction('convertToInteractive',\n",
              "                                                    [key], {});\n",
              "        if (!dataTable) return;\n",
              "\n",
              "        const docLinkHtml = 'Like what you see? Visit the ' +\n",
              "          '<a target=\"_blank\" href=https://colab.research.google.com/notebooks/data_table.ipynb>data table notebook</a>'\n",
              "          + ' to learn more about interactive tables.';\n",
              "        element.innerHTML = '';\n",
              "        dataTable['output_type'] = 'display_data';\n",
              "        await google.colab.output.renderOutput(dataTable, element);\n",
              "        const docLink = document.createElement('div');\n",
              "        docLink.innerHTML = docLinkHtml;\n",
              "        element.appendChild(docLink);\n",
              "      }\n",
              "    </script>\n",
              "  </div>\n",
              "\n",
              "\n",
              "<div id=\"df-bd380ed8-4951-4dfb-b836-4441fc19e98f\">\n",
              "  <button class=\"colab-df-quickchart\" onclick=\"quickchart('df-bd380ed8-4951-4dfb-b836-4441fc19e98f')\"\n",
              "            title=\"Suggest charts\"\n",
              "            style=\"display:none;\">\n",
              "\n",
              "<svg xmlns=\"http://www.w3.org/2000/svg\" height=\"24px\"viewBox=\"0 0 24 24\"\n",
              "     width=\"24px\">\n",
              "    <g>\n",
              "        <path d=\"M19 3H5c-1.1 0-2 .9-2 2v14c0 1.1.9 2 2 2h14c1.1 0 2-.9 2-2V5c0-1.1-.9-2-2-2zM9 17H7v-7h2v7zm4 0h-2V7h2v10zm4 0h-2v-4h2v4z\"/>\n",
              "    </g>\n",
              "</svg>\n",
              "  </button>\n",
              "\n",
              "<style>\n",
              "  .colab-df-quickchart {\n",
              "      --bg-color: #E8F0FE;\n",
              "      --fill-color: #1967D2;\n",
              "      --hover-bg-color: #E2EBFA;\n",
              "      --hover-fill-color: #174EA6;\n",
              "      --disabled-fill-color: #AAA;\n",
              "      --disabled-bg-color: #DDD;\n",
              "  }\n",
              "\n",
              "  [theme=dark] .colab-df-quickchart {\n",
              "      --bg-color: #3B4455;\n",
              "      --fill-color: #D2E3FC;\n",
              "      --hover-bg-color: #434B5C;\n",
              "      --hover-fill-color: #FFFFFF;\n",
              "      --disabled-bg-color: #3B4455;\n",
              "      --disabled-fill-color: #666;\n",
              "  }\n",
              "\n",
              "  .colab-df-quickchart {\n",
              "    background-color: var(--bg-color);\n",
              "    border: none;\n",
              "    border-radius: 50%;\n",
              "    cursor: pointer;\n",
              "    display: none;\n",
              "    fill: var(--fill-color);\n",
              "    height: 32px;\n",
              "    padding: 0;\n",
              "    width: 32px;\n",
              "  }\n",
              "\n",
              "  .colab-df-quickchart:hover {\n",
              "    background-color: var(--hover-bg-color);\n",
              "    box-shadow: 0 1px 2px rgba(60, 64, 67, 0.3), 0 1px 3px 1px rgba(60, 64, 67, 0.15);\n",
              "    fill: var(--button-hover-fill-color);\n",
              "  }\n",
              "\n",
              "  .colab-df-quickchart-complete:disabled,\n",
              "  .colab-df-quickchart-complete:disabled:hover {\n",
              "    background-color: var(--disabled-bg-color);\n",
              "    fill: var(--disabled-fill-color);\n",
              "    box-shadow: none;\n",
              "  }\n",
              "\n",
              "  .colab-df-spinner {\n",
              "    border: 2px solid var(--fill-color);\n",
              "    border-color: transparent;\n",
              "    border-bottom-color: var(--fill-color);\n",
              "    animation:\n",
              "      spin 1s steps(1) infinite;\n",
              "  }\n",
              "\n",
              "  @keyframes spin {\n",
              "    0% {\n",
              "      border-color: transparent;\n",
              "      border-bottom-color: var(--fill-color);\n",
              "      border-left-color: var(--fill-color);\n",
              "    }\n",
              "    20% {\n",
              "      border-color: transparent;\n",
              "      border-left-color: var(--fill-color);\n",
              "      border-top-color: var(--fill-color);\n",
              "    }\n",
              "    30% {\n",
              "      border-color: transparent;\n",
              "      border-left-color: var(--fill-color);\n",
              "      border-top-color: var(--fill-color);\n",
              "      border-right-color: var(--fill-color);\n",
              "    }\n",
              "    40% {\n",
              "      border-color: transparent;\n",
              "      border-right-color: var(--fill-color);\n",
              "      border-top-color: var(--fill-color);\n",
              "    }\n",
              "    60% {\n",
              "      border-color: transparent;\n",
              "      border-right-color: var(--fill-color);\n",
              "    }\n",
              "    80% {\n",
              "      border-color: transparent;\n",
              "      border-right-color: var(--fill-color);\n",
              "      border-bottom-color: var(--fill-color);\n",
              "    }\n",
              "    90% {\n",
              "      border-color: transparent;\n",
              "      border-bottom-color: var(--fill-color);\n",
              "    }\n",
              "  }\n",
              "</style>\n",
              "\n",
              "  <script>\n",
              "    async function quickchart(key) {\n",
              "      const quickchartButtonEl =\n",
              "        document.querySelector('#' + key + ' button');\n",
              "      quickchartButtonEl.disabled = true;  // To prevent multiple clicks.\n",
              "      quickchartButtonEl.classList.add('colab-df-spinner');\n",
              "      try {\n",
              "        const charts = await google.colab.kernel.invokeFunction(\n",
              "            'suggestCharts', [key], {});\n",
              "      } catch (error) {\n",
              "        console.error('Error during call to suggestCharts:', error);\n",
              "      }\n",
              "      quickchartButtonEl.classList.remove('colab-df-spinner');\n",
              "      quickchartButtonEl.classList.add('colab-df-quickchart-complete');\n",
              "    }\n",
              "    (() => {\n",
              "      let quickchartButtonEl =\n",
              "        document.querySelector('#df-bd380ed8-4951-4dfb-b836-4441fc19e98f button');\n",
              "      quickchartButtonEl.style.display =\n",
              "        google.colab.kernel.accessAllowed ? 'block' : 'none';\n",
              "    })();\n",
              "  </script>\n",
              "</div>\n",
              "    </div>\n",
              "  </div>\n"
            ],
            "application/vnd.google.colaboratory.intrinsic+json": {
              "type": "dataframe",
              "variable_name": "intents",
              "summary": "{\n  \"name\": \"intents\",\n  \"rows\": 4978,\n  \"fields\": [\n    {\n      \"column\": \"intent\",\n      \"properties\": {\n        \"dtype\": \"category\",\n        \"num_unique_values\": 22,\n        \"samples\": [\n          \"atis_flight\",\n          \"atis_capacity\",\n          \"atis_abbreviation\"\n        ],\n        \"semantic_type\": \"\",\n        \"description\": \"\"\n      }\n    },\n    {\n      \"column\": \"query\",\n      \"properties\": {\n        \"dtype\": \"string\",\n        \"num_unique_values\": 4634,\n        \"samples\": [\n          \" what is the last flight leaving san francisco going to washington on friday\",\n          \" what are the seating capacities of planes between pittsburgh and baltimore\",\n          \" in atlanta i would like information on ground transportation\"\n        ],\n        \"semantic_type\": \"\",\n        \"description\": \"\"\n      }\n    }\n  ]\n}"
            }
          },
          "metadata": {},
          "execution_count": 7
        }
      ]
    },
    {
      "cell_type": "markdown",
      "source": [
        "Let's inspect the intents"
      ],
      "metadata": {
        "id": "gqQQj32QxDYf"
      }
    },
    {
      "cell_type": "code",
      "source": [
        "intents.intent.value_counts()"
      ],
      "metadata": {
        "colab": {
          "base_uri": "https://localhost:8080/"
        },
        "id": "NGhouO2WvpqC",
        "outputId": "2b0d9f7e-3b4e-4d2f-8d2f-e8ddf01b8669"
      },
      "execution_count": 8,
      "outputs": [
        {
          "output_type": "execute_result",
          "data": {
            "text/plain": [
              "intent\n",
              "atis_flight                                 3666\n",
              "atis_airfare                                 423\n",
              "atis_ground_service                          255\n",
              "atis_airline                                 157\n",
              "atis_abbreviation                            147\n",
              "atis_aircraft                                 81\n",
              "atis_flight_time                              54\n",
              "atis_quantity                                 51\n",
              "atis_flight#atis_airfare                      21\n",
              "atis_airport                                  20\n",
              "atis_distance                                 20\n",
              "atis_city                                     19\n",
              "atis_ground_fare                              18\n",
              "atis_capacity                                 16\n",
              "atis_flight_no                                12\n",
              "atis_meal                                      6\n",
              "atis_restriction                               6\n",
              "atis_airline#atis_flight_no                    2\n",
              "atis_ground_service#atis_ground_fare           1\n",
              "atis_airfare#atis_flight_time                  1\n",
              "atis_cheapest                                  1\n",
              "atis_aircraft#atis_flight#atis_flight_no       1\n",
              "Name: count, dtype: int64"
            ]
          },
          "metadata": {},
          "execution_count": 8
        }
      ]
    },
    {
      "cell_type": "markdown",
      "source": [
        "Let's filter the rows with a rare intent since we will not be able to predict it neverthenless"
      ],
      "metadata": {
        "id": "cP4_-3ezxFM6"
      }
    },
    {
      "cell_type": "code",
      "source": [
        "intents_filtered = intents.groupby('intent').filter(lambda x: len(x) >= 15).reset_index()"
      ],
      "metadata": {
        "id": "Nr58BnYEw0eH"
      },
      "execution_count": 9,
      "outputs": []
    },
    {
      "cell_type": "code",
      "source": [
        "X = intents_filtered['query']\n",
        "y = intents_filtered.intent\n"
      ],
      "metadata": {
        "id": "kLf4fI_qvnpb"
      },
      "execution_count": 10,
      "outputs": []
    },
    {
      "cell_type": "markdown",
      "source": [
        "If we inspect y, now we need to transform it into a one hot representation!"
      ],
      "metadata": {
        "id": "Xc7ZSCE4xZs0"
      }
    },
    {
      "cell_type": "code",
      "source": [
        "y"
      ],
      "metadata": {
        "id": "ebXKmG_cxpOx",
        "colab": {
          "base_uri": "https://localhost:8080/"
        },
        "outputId": "61d26e25-b3b1-4ad0-fe23-f95834e7c5d7"
      },
      "execution_count": 11,
      "outputs": [
        {
          "output_type": "execute_result",
          "data": {
            "text/plain": [
              "0            atis_flight\n",
              "1            atis_flight\n",
              "2       atis_flight_time\n",
              "3           atis_airfare\n",
              "4           atis_airfare\n",
              "              ...       \n",
              "4943        atis_airfare\n",
              "4944         atis_flight\n",
              "4945        atis_airline\n",
              "4946         atis_flight\n",
              "4947         atis_flight\n",
              "Name: intent, Length: 4948, dtype: object"
            ]
          },
          "metadata": {},
          "execution_count": 11
        }
      ]
    },
    {
      "cell_type": "markdown",
      "source": [
        "## Creating the corpus and tokenizing"
      ],
      "metadata": {
        "id": "TXLqIHnNWYMN"
      }
    },
    {
      "cell_type": "code",
      "source": [
        "corpus_with_ix = [(ix, preprocess_text(sentence, should_join = True)) for ix, sentence in X.items() if type(sentence) == str and len(textblob_tokenizer(sentence)) > 3]\n"
      ],
      "metadata": {
        "id": "MebwtE3DH0Qu"
      },
      "execution_count": 13,
      "outputs": []
    },
    {
      "cell_type": "code",
      "source": [
        "corpus_with_ix[0]"
      ],
      "metadata": {
        "id": "1pjd3cYbI-ib",
        "colab": {
          "base_uri": "https://localhost:8080/"
        },
        "outputId": "e35f696c-7e52-4d8d-8d60-f375c31c6235"
      },
      "execution_count": 14,
      "outputs": [
        {
          "output_type": "execute_result",
          "data": {
            "text/plain": [
              "(0, 'want to fly from boston at am and arrive in denver at in the morning')"
            ]
          },
          "metadata": {},
          "execution_count": 14
        }
      ]
    },
    {
      "cell_type": "code",
      "source": [
        "corpus_df = pd.DataFrame(corpus_with_ix, columns=['index', 'text'])"
      ],
      "metadata": {
        "id": "r2jN-duFXT7-"
      },
      "execution_count": 15,
      "outputs": []
    },
    {
      "cell_type": "code",
      "source": [
        "corpus_df"
      ],
      "metadata": {
        "id": "bt5YXTj6Xft6",
        "colab": {
          "base_uri": "https://localhost:8080/",
          "height": 424
        },
        "outputId": "33eb8ad3-86cb-4eb9-a476-a051581012b9"
      },
      "execution_count": 16,
      "outputs": [
        {
          "output_type": "execute_result",
          "data": {
            "text/plain": [
              "      index                                               text\n",
              "0         0  want to fly from boston at am and arrive in de...\n",
              "1         1  what flights are available from pittsburgh to ...\n",
              "2         2  what is the arrival time in san francisco for ...\n",
              "3         3            cheapest airfare from tacoma to orlando\n",
              "4         4  round trip fares from pittsburgh to philadelph...\n",
              "...     ...                                                ...\n",
              "4866   4943  what is the airfare for flights from denver to...\n",
              "4867   4944  do you have any flights from denver to baltimo...\n",
              "4868   4945          which airlines fly into and out of denver\n",
              "4869   4946  does continental fly from boston to san franci...\n",
              "4870   4947  is there delta flight from denver to san franc...\n",
              "\n",
              "[4871 rows x 2 columns]"
            ],
            "text/html": [
              "\n",
              "  <div id=\"df-b37c24d7-a7ff-47bb-9501-57215ee484e5\" class=\"colab-df-container\">\n",
              "    <div>\n",
              "<style scoped>\n",
              "    .dataframe tbody tr th:only-of-type {\n",
              "        vertical-align: middle;\n",
              "    }\n",
              "\n",
              "    .dataframe tbody tr th {\n",
              "        vertical-align: top;\n",
              "    }\n",
              "\n",
              "    .dataframe thead th {\n",
              "        text-align: right;\n",
              "    }\n",
              "</style>\n",
              "<table border=\"1\" class=\"dataframe\">\n",
              "  <thead>\n",
              "    <tr style=\"text-align: right;\">\n",
              "      <th></th>\n",
              "      <th>index</th>\n",
              "      <th>text</th>\n",
              "    </tr>\n",
              "  </thead>\n",
              "  <tbody>\n",
              "    <tr>\n",
              "      <th>0</th>\n",
              "      <td>0</td>\n",
              "      <td>want to fly from boston at am and arrive in de...</td>\n",
              "    </tr>\n",
              "    <tr>\n",
              "      <th>1</th>\n",
              "      <td>1</td>\n",
              "      <td>what flights are available from pittsburgh to ...</td>\n",
              "    </tr>\n",
              "    <tr>\n",
              "      <th>2</th>\n",
              "      <td>2</td>\n",
              "      <td>what is the arrival time in san francisco for ...</td>\n",
              "    </tr>\n",
              "    <tr>\n",
              "      <th>3</th>\n",
              "      <td>3</td>\n",
              "      <td>cheapest airfare from tacoma to orlando</td>\n",
              "    </tr>\n",
              "    <tr>\n",
              "      <th>4</th>\n",
              "      <td>4</td>\n",
              "      <td>round trip fares from pittsburgh to philadelph...</td>\n",
              "    </tr>\n",
              "    <tr>\n",
              "      <th>...</th>\n",
              "      <td>...</td>\n",
              "      <td>...</td>\n",
              "    </tr>\n",
              "    <tr>\n",
              "      <th>4866</th>\n",
              "      <td>4943</td>\n",
              "      <td>what is the airfare for flights from denver to...</td>\n",
              "    </tr>\n",
              "    <tr>\n",
              "      <th>4867</th>\n",
              "      <td>4944</td>\n",
              "      <td>do you have any flights from denver to baltimo...</td>\n",
              "    </tr>\n",
              "    <tr>\n",
              "      <th>4868</th>\n",
              "      <td>4945</td>\n",
              "      <td>which airlines fly into and out of denver</td>\n",
              "    </tr>\n",
              "    <tr>\n",
              "      <th>4869</th>\n",
              "      <td>4946</td>\n",
              "      <td>does continental fly from boston to san franci...</td>\n",
              "    </tr>\n",
              "    <tr>\n",
              "      <th>4870</th>\n",
              "      <td>4947</td>\n",
              "      <td>is there delta flight from denver to san franc...</td>\n",
              "    </tr>\n",
              "  </tbody>\n",
              "</table>\n",
              "<p>4871 rows × 2 columns</p>\n",
              "</div>\n",
              "    <div class=\"colab-df-buttons\">\n",
              "\n",
              "  <div class=\"colab-df-container\">\n",
              "    <button class=\"colab-df-convert\" onclick=\"convertToInteractive('df-b37c24d7-a7ff-47bb-9501-57215ee484e5')\"\n",
              "            title=\"Convert this dataframe to an interactive table.\"\n",
              "            style=\"display:none;\">\n",
              "\n",
              "  <svg xmlns=\"http://www.w3.org/2000/svg\" height=\"24px\" viewBox=\"0 -960 960 960\">\n",
              "    <path d=\"M120-120v-720h720v720H120Zm60-500h600v-160H180v160Zm220 220h160v-160H400v160Zm0 220h160v-160H400v160ZM180-400h160v-160H180v160Zm440 0h160v-160H620v160ZM180-180h160v-160H180v160Zm440 0h160v-160H620v160Z\"/>\n",
              "  </svg>\n",
              "    </button>\n",
              "\n",
              "  <style>\n",
              "    .colab-df-container {\n",
              "      display:flex;\n",
              "      gap: 12px;\n",
              "    }\n",
              "\n",
              "    .colab-df-convert {\n",
              "      background-color: #E8F0FE;\n",
              "      border: none;\n",
              "      border-radius: 50%;\n",
              "      cursor: pointer;\n",
              "      display: none;\n",
              "      fill: #1967D2;\n",
              "      height: 32px;\n",
              "      padding: 0 0 0 0;\n",
              "      width: 32px;\n",
              "    }\n",
              "\n",
              "    .colab-df-convert:hover {\n",
              "      background-color: #E2EBFA;\n",
              "      box-shadow: 0px 1px 2px rgba(60, 64, 67, 0.3), 0px 1px 3px 1px rgba(60, 64, 67, 0.15);\n",
              "      fill: #174EA6;\n",
              "    }\n",
              "\n",
              "    .colab-df-buttons div {\n",
              "      margin-bottom: 4px;\n",
              "    }\n",
              "\n",
              "    [theme=dark] .colab-df-convert {\n",
              "      background-color: #3B4455;\n",
              "      fill: #D2E3FC;\n",
              "    }\n",
              "\n",
              "    [theme=dark] .colab-df-convert:hover {\n",
              "      background-color: #434B5C;\n",
              "      box-shadow: 0px 1px 3px 1px rgba(0, 0, 0, 0.15);\n",
              "      filter: drop-shadow(0px 1px 2px rgba(0, 0, 0, 0.3));\n",
              "      fill: #FFFFFF;\n",
              "    }\n",
              "  </style>\n",
              "\n",
              "    <script>\n",
              "      const buttonEl =\n",
              "        document.querySelector('#df-b37c24d7-a7ff-47bb-9501-57215ee484e5 button.colab-df-convert');\n",
              "      buttonEl.style.display =\n",
              "        google.colab.kernel.accessAllowed ? 'block' : 'none';\n",
              "\n",
              "      async function convertToInteractive(key) {\n",
              "        const element = document.querySelector('#df-b37c24d7-a7ff-47bb-9501-57215ee484e5');\n",
              "        const dataTable =\n",
              "          await google.colab.kernel.invokeFunction('convertToInteractive',\n",
              "                                                    [key], {});\n",
              "        if (!dataTable) return;\n",
              "\n",
              "        const docLinkHtml = 'Like what you see? Visit the ' +\n",
              "          '<a target=\"_blank\" href=https://colab.research.google.com/notebooks/data_table.ipynb>data table notebook</a>'\n",
              "          + ' to learn more about interactive tables.';\n",
              "        element.innerHTML = '';\n",
              "        dataTable['output_type'] = 'display_data';\n",
              "        await google.colab.output.renderOutput(dataTable, element);\n",
              "        const docLink = document.createElement('div');\n",
              "        docLink.innerHTML = docLinkHtml;\n",
              "        element.appendChild(docLink);\n",
              "      }\n",
              "    </script>\n",
              "  </div>\n",
              "\n",
              "\n",
              "<div id=\"df-464c97b2-197a-45db-935f-ade241d653e4\">\n",
              "  <button class=\"colab-df-quickchart\" onclick=\"quickchart('df-464c97b2-197a-45db-935f-ade241d653e4')\"\n",
              "            title=\"Suggest charts\"\n",
              "            style=\"display:none;\">\n",
              "\n",
              "<svg xmlns=\"http://www.w3.org/2000/svg\" height=\"24px\"viewBox=\"0 0 24 24\"\n",
              "     width=\"24px\">\n",
              "    <g>\n",
              "        <path d=\"M19 3H5c-1.1 0-2 .9-2 2v14c0 1.1.9 2 2 2h14c1.1 0 2-.9 2-2V5c0-1.1-.9-2-2-2zM9 17H7v-7h2v7zm4 0h-2V7h2v10zm4 0h-2v-4h2v4z\"/>\n",
              "    </g>\n",
              "</svg>\n",
              "  </button>\n",
              "\n",
              "<style>\n",
              "  .colab-df-quickchart {\n",
              "      --bg-color: #E8F0FE;\n",
              "      --fill-color: #1967D2;\n",
              "      --hover-bg-color: #E2EBFA;\n",
              "      --hover-fill-color: #174EA6;\n",
              "      --disabled-fill-color: #AAA;\n",
              "      --disabled-bg-color: #DDD;\n",
              "  }\n",
              "\n",
              "  [theme=dark] .colab-df-quickchart {\n",
              "      --bg-color: #3B4455;\n",
              "      --fill-color: #D2E3FC;\n",
              "      --hover-bg-color: #434B5C;\n",
              "      --hover-fill-color: #FFFFFF;\n",
              "      --disabled-bg-color: #3B4455;\n",
              "      --disabled-fill-color: #666;\n",
              "  }\n",
              "\n",
              "  .colab-df-quickchart {\n",
              "    background-color: var(--bg-color);\n",
              "    border: none;\n",
              "    border-radius: 50%;\n",
              "    cursor: pointer;\n",
              "    display: none;\n",
              "    fill: var(--fill-color);\n",
              "    height: 32px;\n",
              "    padding: 0;\n",
              "    width: 32px;\n",
              "  }\n",
              "\n",
              "  .colab-df-quickchart:hover {\n",
              "    background-color: var(--hover-bg-color);\n",
              "    box-shadow: 0 1px 2px rgba(60, 64, 67, 0.3), 0 1px 3px 1px rgba(60, 64, 67, 0.15);\n",
              "    fill: var(--button-hover-fill-color);\n",
              "  }\n",
              "\n",
              "  .colab-df-quickchart-complete:disabled,\n",
              "  .colab-df-quickchart-complete:disabled:hover {\n",
              "    background-color: var(--disabled-bg-color);\n",
              "    fill: var(--disabled-fill-color);\n",
              "    box-shadow: none;\n",
              "  }\n",
              "\n",
              "  .colab-df-spinner {\n",
              "    border: 2px solid var(--fill-color);\n",
              "    border-color: transparent;\n",
              "    border-bottom-color: var(--fill-color);\n",
              "    animation:\n",
              "      spin 1s steps(1) infinite;\n",
              "  }\n",
              "\n",
              "  @keyframes spin {\n",
              "    0% {\n",
              "      border-color: transparent;\n",
              "      border-bottom-color: var(--fill-color);\n",
              "      border-left-color: var(--fill-color);\n",
              "    }\n",
              "    20% {\n",
              "      border-color: transparent;\n",
              "      border-left-color: var(--fill-color);\n",
              "      border-top-color: var(--fill-color);\n",
              "    }\n",
              "    30% {\n",
              "      border-color: transparent;\n",
              "      border-left-color: var(--fill-color);\n",
              "      border-top-color: var(--fill-color);\n",
              "      border-right-color: var(--fill-color);\n",
              "    }\n",
              "    40% {\n",
              "      border-color: transparent;\n",
              "      border-right-color: var(--fill-color);\n",
              "      border-top-color: var(--fill-color);\n",
              "    }\n",
              "    60% {\n",
              "      border-color: transparent;\n",
              "      border-right-color: var(--fill-color);\n",
              "    }\n",
              "    80% {\n",
              "      border-color: transparent;\n",
              "      border-right-color: var(--fill-color);\n",
              "      border-bottom-color: var(--fill-color);\n",
              "    }\n",
              "    90% {\n",
              "      border-color: transparent;\n",
              "      border-bottom-color: var(--fill-color);\n",
              "    }\n",
              "  }\n",
              "</style>\n",
              "\n",
              "  <script>\n",
              "    async function quickchart(key) {\n",
              "      const quickchartButtonEl =\n",
              "        document.querySelector('#' + key + ' button');\n",
              "      quickchartButtonEl.disabled = true;  // To prevent multiple clicks.\n",
              "      quickchartButtonEl.classList.add('colab-df-spinner');\n",
              "      try {\n",
              "        const charts = await google.colab.kernel.invokeFunction(\n",
              "            'suggestCharts', [key], {});\n",
              "      } catch (error) {\n",
              "        console.error('Error during call to suggestCharts:', error);\n",
              "      }\n",
              "      quickchartButtonEl.classList.remove('colab-df-spinner');\n",
              "      quickchartButtonEl.classList.add('colab-df-quickchart-complete');\n",
              "    }\n",
              "    (() => {\n",
              "      let quickchartButtonEl =\n",
              "        document.querySelector('#df-464c97b2-197a-45db-935f-ade241d653e4 button');\n",
              "      quickchartButtonEl.style.display =\n",
              "        google.colab.kernel.accessAllowed ? 'block' : 'none';\n",
              "    })();\n",
              "  </script>\n",
              "</div>\n",
              "    </div>\n",
              "  </div>\n"
            ],
            "application/vnd.google.colaboratory.intrinsic+json": {
              "type": "dataframe",
              "variable_name": "corpus_df",
              "summary": "{\n  \"name\": \"corpus_df\",\n  \"rows\": 4871,\n  \"fields\": [\n    {\n      \"column\": \"index\",\n      \"properties\": {\n        \"dtype\": \"number\",\n        \"std\": 1427,\n        \"min\": 0,\n        \"max\": 4947,\n        \"num_unique_values\": 4871,\n        \"samples\": [\n          1361,\n          1124,\n          4282\n        ],\n        \"semantic_type\": \"\",\n        \"description\": \"\"\n      }\n    },\n    {\n      \"column\": \"text\",\n      \"properties\": {\n        \"dtype\": \"string\",\n        \"num_unique_values\": 4526,\n        \"samples\": [\n          \"what flights from st paul to kansas city on friday with breakfast served\",\n          \"does delta have an early afternoon flight from boston to san francisco\",\n          \"show me the flights on delta or twa which go through atlanta\"\n        ],\n        \"semantic_type\": \"\",\n        \"description\": \"\"\n      }\n    }\n  ]\n}"
            }
          },
          "metadata": {},
          "execution_count": 16
        }
      ]
    },
    {
      "cell_type": "code",
      "source": [
        "y_filtered = y[corpus_df['index']]"
      ],
      "metadata": {
        "id": "od6DxRRZJUMf"
      },
      "execution_count": 17,
      "outputs": []
    },
    {
      "cell_type": "code",
      "source": [
        "y_filtered"
      ],
      "metadata": {
        "colab": {
          "base_uri": "https://localhost:8080/"
        },
        "id": "KplRPbffzF2Q",
        "outputId": "3c93d385-6dfd-4486-fa18-db9d1f1a3b6b"
      },
      "execution_count": 18,
      "outputs": [
        {
          "output_type": "execute_result",
          "data": {
            "text/plain": [
              "0            atis_flight\n",
              "1            atis_flight\n",
              "2       atis_flight_time\n",
              "3           atis_airfare\n",
              "4           atis_airfare\n",
              "              ...       \n",
              "4943        atis_airfare\n",
              "4944         atis_flight\n",
              "4945        atis_airline\n",
              "4946         atis_flight\n",
              "4947         atis_flight\n",
              "Name: intent, Length: 4871, dtype: object"
            ]
          },
          "metadata": {},
          "execution_count": 18
        }
      ]
    },
    {
      "cell_type": "code",
      "source": [
        "corpus = [preprocess_text(sentence, should_join=False) for ix, sentence in corpus_with_ix]"
      ],
      "metadata": {
        "id": "bWV2wVBxJuaZ"
      },
      "execution_count": 19,
      "outputs": []
    },
    {
      "cell_type": "code",
      "source": [
        "def get_maximum_review_length(tokenized_corpus):\n",
        "    maximum = 0\n",
        "    for sentence in tokenized_corpus:\n",
        "        candidate = len(sentence)\n",
        "        if candidate > maximum:\n",
        "            maximum = candidate\n",
        "    return maximum\n",
        "max_review_length = get_maximum_review_length(corpus)"
      ],
      "metadata": {
        "id": "fAQ1wVIScTYK"
      },
      "execution_count": 20,
      "outputs": []
    },
    {
      "cell_type": "code",
      "source": [
        "tokenizer = Tokenizer()\n",
        "tokenizer.fit_on_texts(corpus)\n",
        "tokenized_corpus = tokenizer.texts_to_sequences(corpus)\n",
        "nb_samples = sum(len(s) for s in corpus)\n",
        "vocab_size = len(tokenizer.word_index) + 1"
      ],
      "metadata": {
        "id": "Cm5M72SymSYd"
      },
      "execution_count": 21,
      "outputs": []
    },
    {
      "cell_type": "code",
      "source": [
        "final_X = np.zeros((len(tokenized_corpus), max_review_length))\n",
        "for ix, tokenized_sentence in enumerate(tokenized_corpus):\n",
        "    tokenized_sentence.extend([0]*(max_review_length-len(tokenized_sentence)))\n",
        "    final_X[ix] = tokenized_sentence"
      ],
      "metadata": {
        "id": "odthjkKXmTWI"
      },
      "execution_count": 22,
      "outputs": []
    },
    {
      "cell_type": "markdown",
      "source": [
        "Since y_filtered (and y) have many text values, we need to map each intent into a number. We will use the `pd.factorize` method for that."
      ],
      "metadata": {
        "id": "EDQjLfLn9GPw"
      }
    },
    {
      "cell_type": "code",
      "source": [
        "y_factorized, level_intents = pd.factorize(y_filtered)"
      ],
      "metadata": {
        "id": "LFxJh8mG9EWc"
      },
      "execution_count": 23,
      "outputs": []
    },
    {
      "cell_type": "code",
      "source": [
        "y_factorized, level_intents"
      ],
      "metadata": {
        "colab": {
          "base_uri": "https://localhost:8080/"
        },
        "id": "qf-0tM7I9E5D",
        "outputId": "9811a6c9-4ac4-4e38-cdeb-5c4b0d781a80"
      },
      "execution_count": 24,
      "outputs": [
        {
          "output_type": "execute_result",
          "data": {
            "text/plain": [
              "(array([0, 0, 1, ..., 6, 0, 0]),\n",
              " Index(['atis_flight', 'atis_flight_time', 'atis_airfare', 'atis_aircraft',\n",
              "        'atis_ground_service', 'atis_airport', 'atis_airline', 'atis_distance',\n",
              "        'atis_abbreviation', 'atis_ground_fare', 'atis_quantity', 'atis_city',\n",
              "        'atis_capacity', 'atis_flight#atis_airfare'],\n",
              "       dtype='object'))"
            ]
          },
          "metadata": {},
          "execution_count": 24
        }
      ]
    },
    {
      "cell_type": "markdown",
      "source": [
        "## Creating the embedding matrix"
      ],
      "metadata": {
        "id": "NnzCLuSZ07Qg"
      }
    },
    {
      "cell_type": "markdown",
      "source": [
        "This is the same part, we will construct an embedding matrix that maps each word in the tokenizer (via the ID it gets in the dataset) to the GloVe 100 dimensional representation of that word. This will be the input to the Embedding layer."
      ],
      "metadata": {
        "id": "UUAv_aDdr7VD"
      }
    },
    {
      "cell_type": "code",
      "source": [
        "path_to_glove_file = \"./glove.6B.100d.txt\"\n",
        "embeddings_index = {}\n",
        "with open(path_to_glove_file) as f:\n",
        "    for line in f:\n",
        "        word, coefs = line.split(maxsplit=1)\n",
        "        coefs = np.fromstring(coefs, \"f\", sep=\" \")\n",
        "        embeddings_index[word] = coefs\n",
        "\n",
        "print(\"Found %s word vectors.\" % len(embeddings_index))"
      ],
      "metadata": {
        "colab": {
          "base_uri": "https://localhost:8080/"
        },
        "id": "VWvoLMT_mONi",
        "outputId": "2872e6d2-f729-4aee-ef26-2941d406d788"
      },
      "execution_count": 25,
      "outputs": [
        {
          "output_type": "stream",
          "name": "stdout",
          "text": [
            "Found 400001 word vectors.\n"
          ]
        }
      ]
    },
    {
      "cell_type": "code",
      "source": [
        "embedding_dim = 100\n",
        "num_tokens = vocab_size + 1\n",
        "hits = 0\n",
        "misses = 0\n",
        "\n",
        "# Prepare embedding matrix\n",
        "embedding_matrix = np.zeros((num_tokens, embedding_dim))\n",
        "for word, i in tokenizer.word_index.items():\n",
        "    embedding_vector = embeddings_index.get(word)\n",
        "    if embedding_vector is not None:\n",
        "        # Words not found in embedding index will be all-zeros.\n",
        "        # This includes the representation for \"padding\" and \"OOV\"\n",
        "        embedding_matrix[i] = embedding_vector\n",
        "        hits += 1\n",
        "    else:\n",
        "        misses += 1\n",
        "print(\"Converted %d words (%d misses)\" % (hits, misses))"
      ],
      "metadata": {
        "colab": {
          "base_uri": "https://localhost:8080/"
        },
        "id": "y_cy91zwmOQH",
        "outputId": "ce39dfff-7fa7-4ba4-b478-a847b6264789"
      },
      "execution_count": 26,
      "outputs": [
        {
          "output_type": "stream",
          "name": "stdout",
          "text": [
            "Converted 696 words (1 misses)\n"
          ]
        }
      ]
    },
    {
      "cell_type": "markdown",
      "source": [
        "## Doing the train_test split and defining model"
      ],
      "metadata": {
        "id": "quWimVZjbemw"
      }
    },
    {
      "cell_type": "code",
      "source": [
        "from sklearn.model_selection import train_test_split\n",
        "X_train, X_test, y_train, y_test = train_test_split(final_X, y_factorized, test_size = 0.3, random_state=42)"
      ],
      "metadata": {
        "id": "gPK5YmDMTbby"
      },
      "execution_count": 27,
      "outputs": []
    },
    {
      "cell_type": "code",
      "source": [
        "X_train_tensor = tf.constant(X_train)\n",
        "X_test_tensor = tf.constant(X_test)\n",
        "y_train_tensor = tf.one_hot(tf.constant(y_train), len(level_intents))\n",
        "y_test_tensor = tf.one_hot(tf.constant(y_test), len(level_intents))"
      ],
      "metadata": {
        "id": "SwdtffgTVRM0"
      },
      "execution_count": 28,
      "outputs": []
    },
    {
      "cell_type": "markdown",
      "source": [
        "Notice that our y has many values, we need to use `tf.one_hot` to convert it to the corresponding input to the loss function"
      ],
      "metadata": {
        "id": "3iSfi7vJDv3R"
      }
    },
    {
      "cell_type": "code",
      "source": [
        "X_train_tensor.shape, X_test_tensor.shape, y_train_tensor.shape, y_test_tensor.shape"
      ],
      "metadata": {
        "id": "zzQA9t3JdlGO",
        "colab": {
          "base_uri": "https://localhost:8080/"
        },
        "outputId": "5d3e5a6f-8603-46fa-a8f8-cd791f693b97"
      },
      "execution_count": 29,
      "outputs": [
        {
          "output_type": "execute_result",
          "data": {
            "text/plain": [
              "(TensorShape([3409, 43]),\n",
              " TensorShape([1462, 43]),\n",
              " TensorShape([3409, 14]),\n",
              " TensorShape([1462, 14]))"
            ]
          },
          "metadata": {},
          "execution_count": 29
        }
      ]
    },
    {
      "cell_type": "markdown",
      "source": [
        "Now we have the key step, we will set the output neurons to be the amount of intents, with softmax as activation. Therefore this model will predict probabilities that each input inquiry is of certain classes"
      ],
      "metadata": {
        "id": "6ZRw6Ttrsp53"
      }
    },
    {
      "cell_type": "code",
      "source": [
        "model = Sequential()\n",
        "model.add(Embedding(input_dim=embedding_matrix.shape[0], output_dim=embedding_matrix.shape[1], input_length=max_review_length, embeddings_initializer=Constant(embedding_matrix), trainable=False))\n",
        "model.add(Dense(100, activation=leaky_relu))\n",
        "model.add(Dense(50, activation=leaky_relu))\n",
        "model.add(Lambda(lambda x: K.mean(x, axis=1), output_shape=(embedding_dim,)))\n",
        "model.add(Dense(50, activation=leaky_relu))\n",
        "model.add(Dense(len(level_intents), activation='softmax'))"
      ],
      "metadata": {
        "id": "9ySCH6VsVNTa"
      },
      "execution_count": 30,
      "outputs": []
    },
    {
      "cell_type": "code",
      "source": [
        "model.compile(optimizer='adam', loss=tf.keras.losses.CategoricalCrossentropy(), metrics=[\"accuracy\", tf.keras.metrics.Precision(name='precision'), tf.keras.metrics.Recall(name='recall')])\n",
        "model.summary()"
      ],
      "metadata": {
        "id": "MDd6hnQhVnOR",
        "colab": {
          "base_uri": "https://localhost:8080/"
        },
        "outputId": "019d1943-4cb2-4531-bfab-147bffd7cdea"
      },
      "execution_count": 31,
      "outputs": [
        {
          "output_type": "stream",
          "name": "stdout",
          "text": [
            "Model: \"sequential\"\n",
            "_________________________________________________________________\n",
            " Layer (type)                Output Shape              Param #   \n",
            "=================================================================\n",
            " embedding (Embedding)       (None, 43, 100)           69900     \n",
            "                                                                 \n",
            " dense (Dense)               (None, 43, 100)           10100     \n",
            "                                                                 \n",
            " dense_1 (Dense)             (None, 43, 50)            5050      \n",
            "                                                                 \n",
            " lambda (Lambda)             (None, 50)                0         \n",
            "                                                                 \n",
            " dense_2 (Dense)             (None, 50)                2550      \n",
            "                                                                 \n",
            " dense_3 (Dense)             (None, 14)                714       \n",
            "                                                                 \n",
            "=================================================================\n",
            "Total params: 88314 (344.98 KB)\n",
            "Trainable params: 18414 (71.93 KB)\n",
            "Non-trainable params: 69900 (273.05 KB)\n",
            "_________________________________________________________________\n"
          ]
        }
      ]
    },
    {
      "cell_type": "markdown",
      "source": [
        "Notice the non-trainable parameters"
      ],
      "metadata": {
        "id": "L5qOpTaAtK7V"
      }
    },
    {
      "cell_type": "code",
      "source": [
        "callback = tf.keras.callbacks.EarlyStopping(monitor='val_precision', patience=10, min_delta=0.01, mode=\"max\")\n",
        "history = model.fit(X_train_tensor, y_train_tensor, epochs = 30, validation_split=0.2, workers = 5, callbacks=[callback])"
      ],
      "metadata": {
        "id": "UcAZECDkf-2B",
        "colab": {
          "base_uri": "https://localhost:8080/"
        },
        "outputId": "2c1639bf-6ed7-40d6-b376-6f7c7b0ddf69"
      },
      "execution_count": 32,
      "outputs": [
        {
          "output_type": "stream",
          "name": "stdout",
          "text": [
            "Epoch 1/30\n",
            "86/86 [==============================] - 2s 12ms/step - loss: 1.3431 - accuracy: 0.7198 - precision: 0.7769 - recall: 0.5288 - val_loss: 0.9790 - val_accuracy: 0.7669 - val_precision: 0.7937 - val_recall: 0.7449\n",
            "Epoch 2/30\n",
            "86/86 [==============================] - 1s 8ms/step - loss: 0.9461 - accuracy: 0.7396 - precision: 0.8029 - recall: 0.7305 - val_loss: 0.8267 - val_accuracy: 0.7742 - val_precision: 0.8540 - val_recall: 0.7375\n",
            "Epoch 3/30\n",
            "86/86 [==============================] - 1s 9ms/step - loss: 0.7292 - accuracy: 0.8045 - precision: 0.8711 - recall: 0.7459 - val_loss: 0.6355 - val_accuracy: 0.8446 - val_precision: 0.8920 - val_recall: 0.7991\n",
            "Epoch 4/30\n",
            "86/86 [==============================] - 1s 9ms/step - loss: 0.5775 - accuracy: 0.8563 - precision: 0.9024 - recall: 0.8273 - val_loss: 0.5179 - val_accuracy: 0.8666 - val_precision: 0.9006 - val_recall: 0.8372\n",
            "Epoch 5/30\n",
            "86/86 [==============================] - 1s 9ms/step - loss: 0.4885 - accuracy: 0.8706 - precision: 0.9103 - recall: 0.8486 - val_loss: 0.5197 - val_accuracy: 0.8578 - val_precision: 0.9075 - val_recall: 0.8196\n",
            "Epoch 6/30\n",
            "86/86 [==============================] - 1s 7ms/step - loss: 0.4318 - accuracy: 0.8838 - precision: 0.9168 - recall: 0.8563 - val_loss: 0.4224 - val_accuracy: 0.8680 - val_precision: 0.9151 - val_recall: 0.8372\n",
            "Epoch 7/30\n",
            "86/86 [==============================] - 1s 7ms/step - loss: 0.3868 - accuracy: 0.8911 - precision: 0.9234 - recall: 0.8625 - val_loss: 0.3988 - val_accuracy: 0.8798 - val_precision: 0.9108 - val_recall: 0.8534\n",
            "Epoch 8/30\n",
            "86/86 [==============================] - 1s 7ms/step - loss: 0.3662 - accuracy: 0.8977 - precision: 0.9223 - recall: 0.8706 - val_loss: 0.3653 - val_accuracy: 0.8974 - val_precision: 0.9250 - val_recall: 0.8680\n",
            "Epoch 9/30\n",
            "86/86 [==============================] - 1s 8ms/step - loss: 0.3316 - accuracy: 0.9054 - precision: 0.9279 - recall: 0.8779 - val_loss: 0.3369 - val_accuracy: 0.9047 - val_precision: 0.9255 - val_recall: 0.8739\n",
            "Epoch 10/30\n",
            "86/86 [==============================] - 1s 11ms/step - loss: 0.3089 - accuracy: 0.9146 - precision: 0.9356 - recall: 0.8900 - val_loss: 0.3180 - val_accuracy: 0.9047 - val_precision: 0.9234 - val_recall: 0.8842\n",
            "Epoch 11/30\n",
            "86/86 [==============================] - 1s 11ms/step - loss: 0.2903 - accuracy: 0.9171 - precision: 0.9349 - recall: 0.8959 - val_loss: 0.3023 - val_accuracy: 0.9106 - val_precision: 0.9303 - val_recall: 0.8812\n",
            "Epoch 12/30\n",
            "86/86 [==============================] - 1s 12ms/step - loss: 0.2757 - accuracy: 0.9226 - precision: 0.9415 - recall: 0.9028 - val_loss: 0.2992 - val_accuracy: 0.9106 - val_precision: 0.9254 - val_recall: 0.8915\n",
            "Epoch 13/30\n",
            "86/86 [==============================] - 1s 13ms/step - loss: 0.2658 - accuracy: 0.9256 - precision: 0.9423 - recall: 0.9047 - val_loss: 0.2819 - val_accuracy: 0.9179 - val_precision: 0.9387 - val_recall: 0.8988\n",
            "Epoch 14/30\n",
            "86/86 [==============================] - 1s 11ms/step - loss: 0.2531 - accuracy: 0.9322 - precision: 0.9459 - recall: 0.9105 - val_loss: 0.2695 - val_accuracy: 0.9296 - val_precision: 0.9383 - val_recall: 0.9135\n",
            "Epoch 15/30\n",
            "86/86 [==============================] - 1s 8ms/step - loss: 0.2431 - accuracy: 0.9300 - precision: 0.9474 - recall: 0.9190 - val_loss: 0.2694 - val_accuracy: 0.9208 - val_precision: 0.9393 - val_recall: 0.9076\n",
            "Epoch 16/30\n",
            "86/86 [==============================] - 1s 8ms/step - loss: 0.2280 - accuracy: 0.9347 - precision: 0.9472 - recall: 0.9215 - val_loss: 0.2535 - val_accuracy: 0.9282 - val_precision: 0.9351 - val_recall: 0.9091\n",
            "Epoch 17/30\n",
            "86/86 [==============================] - 1s 7ms/step - loss: 0.2227 - accuracy: 0.9351 - precision: 0.9503 - recall: 0.9190 - val_loss: 0.2517 - val_accuracy: 0.9296 - val_precision: 0.9482 - val_recall: 0.9135\n",
            "Epoch 18/30\n",
            "86/86 [==============================] - 1s 7ms/step - loss: 0.2070 - accuracy: 0.9406 - precision: 0.9559 - recall: 0.9292 - val_loss: 0.2396 - val_accuracy: 0.9267 - val_precision: 0.9468 - val_recall: 0.9135\n",
            "Epoch 19/30\n",
            "86/86 [==============================] - 1s 6ms/step - loss: 0.2012 - accuracy: 0.9406 - precision: 0.9576 - recall: 0.9281 - val_loss: 0.2563 - val_accuracy: 0.9238 - val_precision: 0.9422 - val_recall: 0.9091\n",
            "Epoch 20/30\n",
            "86/86 [==============================] - 1s 7ms/step - loss: 0.1896 - accuracy: 0.9465 - precision: 0.9598 - recall: 0.9366 - val_loss: 0.2463 - val_accuracy: 0.9355 - val_precision: 0.9447 - val_recall: 0.9267\n",
            "Epoch 21/30\n",
            "86/86 [==============================] - 1s 7ms/step - loss: 0.1801 - accuracy: 0.9461 - precision: 0.9609 - recall: 0.9373 - val_loss: 0.2236 - val_accuracy: 0.9326 - val_precision: 0.9469 - val_recall: 0.9150\n",
            "Epoch 22/30\n",
            "86/86 [==============================] - 1s 6ms/step - loss: 0.1742 - accuracy: 0.9494 - precision: 0.9623 - recall: 0.9358 - val_loss: 0.2391 - val_accuracy: 0.9267 - val_precision: 0.9371 - val_recall: 0.9179\n",
            "Epoch 23/30\n",
            "86/86 [==============================] - 1s 7ms/step - loss: 0.1657 - accuracy: 0.9516 - precision: 0.9642 - recall: 0.9395 - val_loss: 0.2453 - val_accuracy: 0.9311 - val_precision: 0.9362 - val_recall: 0.9252\n"
          ]
        }
      ]
    },
    {
      "cell_type": "markdown",
      "source": [
        "## Some plots"
      ],
      "metadata": {
        "id": "ROXVUovhYRWG"
      }
    },
    {
      "cell_type": "code",
      "source": [
        "import matplotlib.pyplot as plt\n",
        "# function for plotting loss\n",
        "def plot_metrics(train_metric, val_metric=None, metric_name=None, title=None, ylim=5):\n",
        "    plt.title(title)\n",
        "    plt.ylim(0,ylim)\n",
        "    plt.plot(train_metric,color='blue',label=metric_name)\n",
        "    if val_metric is not None: plt.plot(val_metric,color='green',label='val_' + metric_name)\n",
        "    plt.legend(loc=\"upper right\")\n",
        "\n",
        "# plot loss history\n",
        "plot_metrics(history.history['loss'], history.history['val_loss'], \"Loss\", \"Loss\", ylim=1.0)\n"
      ],
      "metadata": {
        "id": "gtIQvnUcg2T2",
        "colab": {
          "base_uri": "https://localhost:8080/",
          "height": 452
        },
        "outputId": "51e6acbd-2e0d-46f3-f970-edb4e4f1cc70"
      },
      "execution_count": 33,
      "outputs": [
        {
          "output_type": "display_data",
          "data": {
            "text/plain": [
              "<Figure size 640x480 with 1 Axes>"
            ],
            "image/png": "[encoded data removed]"
          },
          "metadata": {}
        }
      ]
    },
    {
      "cell_type": "code",
      "source": [
        "plot_metrics(history.history['accuracy'], history.history['val_accuracy'], \"Accuracy\", \"Accuracy\", ylim=1.0)\n"
      ],
      "metadata": {
        "id": "q6pBSQSPg2V6",
        "colab": {
          "base_uri": "https://localhost:8080/",
          "height": 452
        },
        "outputId": "53882642-97bd-43b7-9b0f-dbe4257a1d29"
      },
      "execution_count": 34,
      "outputs": [
        {
          "output_type": "display_data",
          "data": {
            "text/plain": [
              "<Figure size 640x480 with 1 Axes>"
            ],
            "image/png": "[encoded data removed]"
          },
          "metadata": {}
        }
      ]
    },
    {
      "cell_type": "code",
      "source": [
        "plot_metrics(history.history['precision'], history.history['val_precision'], \"Precision\", \"Precision\", ylim=1.0)\n"
      ],
      "metadata": {
        "id": "RPe1ekWlg2Yi",
        "colab": {
          "base_uri": "https://localhost:8080/",
          "height": 452
        },
        "outputId": "0ca93793-1d40-4e50-f4bd-b8a2fedf49f6"
      },
      "execution_count": 35,
      "outputs": [
        {
          "output_type": "display_data",
          "data": {
            "text/plain": [
              "<Figure size 640x480 with 1 Axes>"
            ],
            "image/png": "[encoded data removed]"
          },
          "metadata": {}
        }
      ]
    },
    {
      "cell_type": "code",
      "source": [],
      "metadata": {
        "id": "TV0VeAxSg2a3"
      },
      "execution_count": null,
      "outputs": []
    },
    {
      "cell_type": "markdown",
      "source": [
        "# Some manual validation"
      ],
      "metadata": {
        "id": "tNqRJ0wCbXMv"
      }
    },
    {
      "cell_type": "code",
      "source": [
        "level_intents"
      ],
      "metadata": {
        "colab": {
          "base_uri": "https://localhost:8080/"
        },
        "id": "gy6fQExA2T1L",
        "outputId": "3bb768da-1fa7-4f88-f8b3-43238b0d665c"
      },
      "execution_count": 36,
      "outputs": [
        {
          "output_type": "execute_result",
          "data": {
            "text/plain": [
              "Index(['atis_flight', 'atis_flight_time', 'atis_airfare', 'atis_aircraft',\n",
              "       'atis_ground_service', 'atis_airport', 'atis_airline', 'atis_distance',\n",
              "       'atis_abbreviation', 'atis_ground_fare', 'atis_quantity', 'atis_city',\n",
              "       'atis_capacity', 'atis_flight#atis_airfare'],\n",
              "      dtype='object')"
            ]
          },
          "metadata": {},
          "execution_count": 36
        }
      ]
    },
    {
      "cell_type": "code",
      "source": [
        "\n",
        "x_val = np.zeros((4, max_review_length))\n",
        "queries = ['Which hour is the next flight', 'how many flights leave in the morning', 'i want to flight to new york at the morning', 'which flight flies with an airbus A350']\n",
        "for ix, tokenized_sentence in enumerate(tokenizer.texts_to_sequences([preprocess_text(sentence, should_join=True) for sentence in queries])):\n",
        "    tokenized_sentence.extend([0]*(max_review_length-len(tokenized_sentence)))\n",
        "    x_val[ix] = tokenized_sentence\n",
        "y_val = tf.one_hot(tf.constant([1, 10, 0, 3 ]), 14)"
      ],
      "metadata": {
        "id": "eF2Trj0ul1a5"
      },
      "execution_count": 37,
      "outputs": []
    },
    {
      "cell_type": "code",
      "source": [
        "x_val"
      ],
      "metadata": {
        "colab": {
          "base_uri": "https://localhost:8080/"
        },
        "id": "7YTph1DKqQ3r",
        "outputId": "16bc25e0-eda6-430e-9ad4-43bd6c9b5e70"
      },
      "execution_count": 38,
      "outputs": [
        {
          "output_type": "execute_result",
          "data": {
            "text/plain": [
              "array([[ 62.,  19.,   4., 111.,   8.,   0.,   0.,   0.,   0.,   0.,   0.,\n",
              "          0.,   0.,   0.,   0.,   0.,   0.,   0.,   0.,   0.,   0.,   0.,\n",
              "          0.,   0.,   0.,   0.,   0.,   0.,   0.,   0.,   0.,   0.,   0.,\n",
              "          0.,   0.,   0.,   0.,   0.,   0.,   0.,   0.,   0.,   0.],\n",
              "       [ 78., 141.,   3.,  69.,  14.,   4.,  33.,   0.,   0.,   0.,   0.,\n",
              "          0.,   0.,   0.,   0.,   0.,   0.,   0.,   0.,   0.,   0.,   0.,\n",
              "          0.,   0.,   0.,   0.,   0.,   0.,   0.,   0.,   0.,   0.,   0.,\n",
              "          0.,   0.,   0.,   0.,   0.,   0.,   0.,   0.,   0.,   0.],\n",
              "       [ 67.,   1.,   8.,   1.,  66.,  70.,  65.,   4.,  33.,   0.,   0.,\n",
              "          0.,   0.,   0.,   0.,   0.,   0.,   0.,   0.,   0.,   0.,   0.,\n",
              "          0.,   0.,   0.,   0.,   0.,   0.,   0.,   0.,   0.,   0.,   0.,\n",
              "          0.,   0.,   0.,   0.,   0.,   0.,   0.,   0.,   0.,   0.],\n",
              "       [ 62.,   8., 278.,  56., 140.,   0.,   0.,   0.,   0.,   0.,   0.,\n",
              "          0.,   0.,   0.,   0.,   0.,   0.,   0.,   0.,   0.,   0.,   0.,\n",
              "          0.,   0.,   0.,   0.,   0.,   0.,   0.,   0.,   0.,   0.,   0.,\n",
              "          0.,   0.,   0.,   0.,   0.,   0.,   0.,   0.,   0.,   0.]])"
            ]
          },
          "metadata": {},
          "execution_count": 38
        }
      ]
    },
    {
      "cell_type": "code",
      "source": [
        "model.predict(x_val)"
      ],
      "metadata": {
        "colab": {
          "base_uri": "https://localhost:8080/"
        },
        "id": "odJ47XJ8SmtC",
        "outputId": "92add29c-272c-4a97-f444-b818b1f55baf"
      },
      "execution_count": 39,
      "outputs": [
        {
          "output_type": "stream",
          "name": "stdout",
          "text": [
            "1/1 [==============================] - 0s 172ms/step\n"
          ]
        },
        {
          "output_type": "execute_result",
          "data": {
            "text/plain": [
              "array([[9.70639050e-01, 3.94142093e-03, 1.14679948e-04, 8.12933547e-04,\n",
              "        5.55676743e-05, 4.34297230e-03, 1.51137076e-02, 4.43113706e-04,\n",
              "        7.11084067e-05, 1.82999531e-06, 1.16626499e-03, 3.07266833e-03,\n",
              "        1.05836894e-04, 1.18919277e-04],\n",
              "       [8.47067356e-01, 2.58797817e-02, 3.50905512e-03, 7.78538967e-03,\n",
              "        8.80580483e-05, 1.93350541e-03, 4.03762842e-03, 3.50402039e-03,\n",
              "        1.84053148e-04, 4.58092545e-05, 9.46248919e-02, 5.28603839e-03,\n",
              "        3.53216287e-03, 2.52217776e-03],\n",
              "       [9.98898506e-01, 7.19997799e-04, 1.53221681e-05, 1.82141357e-05,\n",
              "        3.59594651e-06, 1.56215479e-04, 1.09885739e-04, 1.90759856e-05,\n",
              "        2.26600108e-07, 1.45855088e-08, 1.85788158e-05, 3.07975788e-05,\n",
              "        2.91196272e-07, 9.34711261e-06],\n",
              "       [7.73396075e-01, 1.56217779e-03, 3.42087083e-06, 3.53641738e-03,\n",
              "        1.10109067e-05, 4.73090680e-03, 1.82158828e-01, 1.62397875e-04,\n",
              "        1.32731284e-05, 2.98264837e-07, 3.16585600e-03, 3.07780094e-02,\n",
              "        4.71892068e-04, 9.49328023e-06]], dtype=float32)"
            ]
          },
          "metadata": {},
          "execution_count": 39
        }
      ]
    },
    {
      "cell_type": "code",
      "source": [
        "tf.math.argmax(model.predict(x_val), axis=1)"
      ],
      "metadata": {
        "colab": {
          "base_uri": "https://localhost:8080/"
        },
        "id": "_gpxpoysBimf",
        "outputId": "8eca7c11-b099-4965-e607-c29ef777b10e"
      },
      "execution_count": 40,
      "outputs": [
        {
          "output_type": "stream",
          "name": "stdout",
          "text": [
            "1/1 [==============================] - 0s 33ms/step\n"
          ]
        },
        {
          "output_type": "execute_result",
          "data": {
            "text/plain": [
              "<tf.Tensor: shape=(4,), dtype=int64, numpy=array([0, 0, 0, 0])>"
            ]
          },
          "metadata": {},
          "execution_count": 40
        }
      ]
    },
    {
      "cell_type": "code",
      "source": [
        "tf.math.argmax(model.predict(x_val), axis=1) == tf.math.argmax(y_val, axis=1)"
      ],
      "metadata": {
        "colab": {
          "base_uri": "https://localhost:8080/"
        },
        "id": "68dQDWkpSnIr",
        "outputId": "7d9b38cc-151b-4a06-de66-ba17509828dd"
      },
      "execution_count": 41,
      "outputs": [
        {
          "output_type": "stream",
          "name": "stdout",
          "text": [
            "1/1 [==============================] - 0s 19ms/step\n"
          ]
        },
        {
          "output_type": "execute_result",
          "data": {
            "text/plain": [
              "<tf.Tensor: shape=(4,), dtype=bool, numpy=array([False, False,  True, False])>"
            ]
          },
          "metadata": {},
          "execution_count": 41
        }
      ]
    },
    {
      "cell_type": "code",
      "source": [
        "tf.math.argmax(y_val, axis=1)"
      ],
      "metadata": {
        "colab": {
          "base_uri": "https://localhost:8080/"
        },
        "id": "xEMXekdP2t14",
        "outputId": "9fba2acb-1a2f-47c9-f178-07ff30103a5f"
      },
      "execution_count": 42,
      "outputs": [
        {
          "output_type": "execute_result",
          "data": {
            "text/plain": [
              "<tf.Tensor: shape=(4,), dtype=int64, numpy=array([ 1, 10,  0,  3])>"
            ]
          },
          "metadata": {},
          "execution_count": 42
        }
      ]
    },
    {
      "cell_type": "code",
      "source": [
        "model.evaluate(X_test_tensor, y_test_tensor)"
      ],
      "metadata": {
        "id": "icVOjVFybsU-",
        "colab": {
          "base_uri": "https://localhost:8080/"
        },
        "outputId": "6a8790b1-b929-43d6-f9e6-53715463c2d9"
      },
      "execution_count": 43,
      "outputs": [
        {
          "output_type": "stream",
          "name": "stdout",
          "text": [
            "46/46 [==============================] - 0s 3ms/step - loss: 0.1945 - accuracy: 0.9425 - precision: 0.9581 - recall: 0.9378\n"
          ]
        },
        {
          "output_type": "execute_result",
          "data": {
            "text/plain": [
              "[0.19449783861637115,\n",
              " 0.9425444602966309,\n",
              " 0.9580712914466858,\n",
              " 0.9377564787864685]"
            ]
          },
          "metadata": {},
          "execution_count": 43
        }
      ]
    },
    {
      "cell_type": "markdown",
      "source": [
        "Therefore, the model is amazing, reaching 95% accuracy and F1 score"
      ],
      "metadata": {
        "id": "VBSc6m2LcPfk"
      }
    },
    {
      "cell_type": "code",
      "source": [],
      "metadata": {
        "id": "UGUTiuyLmIsg"
      },
      "execution_count": null,
      "outputs": []
    }
  ]
}
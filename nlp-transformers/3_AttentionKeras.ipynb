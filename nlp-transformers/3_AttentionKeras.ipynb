{
  "nbformat": 4,
  "nbformat_minor": 0,
  "metadata": {
    "colab": {
      "provenance": [],
      "collapsed_sections": [
        "JsTW2QHimUlx"
      ],
      "gpuType": "T4",
      "include_colab_link": true
    },
    "kernelspec": {
      "name": "python3",
      "display_name": "Python 3"
    },
    "language_info": {
      "name": "python"
    },
    "accelerator": "GPU"
  },
  "cells": [
    {
      "cell_type": "markdown",
      "metadata": {
        "id": "view-in-github",
        "colab_type": "text"
      },
      "source": [
        "<a href=\"https://colab.research.google.com/github/aristotelis79/collab/blob/main/nlp-transformers/3_AttentionKeras.ipynb\" target=\"_parent\"><img src=\"https://colab.research.google.com/assets/colab-badge.svg\" alt=\"Open In Colab\"/></a>"
      ]
    },
    {
      "cell_type": "markdown",
      "source": [
        "# Attention with Keras\n",
        "\n",
        "© Data Trainers LLC. GPL v 3.0.\n",
        "\n",
        "Author: Axel Sirota"
      ],
      "metadata": {
        "id": "r45tbR6lkYEa"
      }
    },
    {
      "cell_type": "markdown",
      "source": [
        "A whole new world opportunities appear when considering using the layer implementations of the attention components. As of July 2023 we have 3 layers implemented:\n",
        "\n",
        "- AdditiveAttention: This is the original Attention from the Bahdanau paper that incorporates the concept of Q,K,V attention we say in demo 2; setting, in this case, K=V.\n",
        "- Attention: This is the Dot Product attention from *Luong et. al.* we saw in the first demo.\n",
        "- MultiHeadAttention: The general attention everyone uses and we will learn in this demo! It is basically many layers of self attention.\n",
        "\n",
        "Let's get to it!\n"
      ],
      "metadata": {
        "id": "hcU-PBR3kbaL"
      }
    },
    {
      "cell_type": "markdown",
      "source": [
        "## Prep"
      ],
      "metadata": {
        "id": "JsTW2QHimUlx"
      }
    },
    {
      "cell_type": "code",
      "source": [
        "#!pip install -U nltk 'gensim==4.2.0' 'keras-nlp' 'keras-preprocessing' 'tensorflow-text>=2.11'\n",
        "!pip install textblob 'gensim==4.2.0'\n",
        "!pip install keras.utils\n",
        "!pip install keras_preprocessing\n",
        "#!pip install keras-nlp\n",
        "#!pip install tensorflow-text"
      ],
      "metadata": {
        "id": "C9BTEOu0PerV",
        "colab": {
          "base_uri": "https://localhost:8080/"
        },
        "outputId": "724f4322-8945-4a3a-fbcc-ac1f1d0d3f7f"
      },
      "execution_count": 1,
      "outputs": [
        {
          "output_type": "stream",
          "name": "stdout",
          "text": [
            "Requirement already satisfied: textblob in /usr/local/lib/python3.10/dist-packages (0.17.1)\n",
            "Collecting gensim==4.2.0\n",
            "  Downloading gensim-4.2.0-cp310-cp310-manylinux_2_17_x86_64.manylinux2014_x86_64.whl (24.0 MB)\n",
            "\u001b[2K     \u001b[90m━━━━━━━━━━━━━━━━━━━━━━━━━━━━━━━━━━━━━━━━\u001b[0m \u001b[32m24.0/24.0 MB\u001b[0m \u001b[31m25.4 MB/s\u001b[0m eta \u001b[36m0:00:00\u001b[0m\n",
            "\u001b[?25hRequirement already satisfied: numpy>=1.17.0 in /usr/local/lib/python3.10/dist-packages (from gensim==4.2.0) (1.25.2)\n",
            "Requirement already satisfied: scipy>=0.18.1 in /usr/local/lib/python3.10/dist-packages (from gensim==4.2.0) (1.11.4)\n",
            "Requirement already satisfied: smart-open>=1.8.1 in /usr/local/lib/python3.10/dist-packages (from gensim==4.2.0) (6.4.0)\n",
            "Requirement already satisfied: nltk>=3.1 in /usr/local/lib/python3.10/dist-packages (from textblob) (3.8.1)\n",
            "Requirement already satisfied: click in /usr/local/lib/python3.10/dist-packages (from nltk>=3.1->textblob) (8.1.7)\n",
            "Requirement already satisfied: joblib in /usr/local/lib/python3.10/dist-packages (from nltk>=3.1->textblob) (1.4.0)\n",
            "Requirement already satisfied: regex>=2021.8.3 in /usr/local/lib/python3.10/dist-packages (from nltk>=3.1->textblob) (2023.12.25)\n",
            "Requirement already satisfied: tqdm in /usr/local/lib/python3.10/dist-packages (from nltk>=3.1->textblob) (4.66.2)\n",
            "Installing collected packages: gensim\n",
            "  Attempting uninstall: gensim\n",
            "    Found existing installation: gensim 4.3.2\n",
            "    Uninstalling gensim-4.3.2:\n",
            "      Successfully uninstalled gensim-4.3.2\n",
            "Successfully installed gensim-4.2.0\n",
            "Collecting keras.utils\n",
            "  Downloading keras-utils-1.0.13.tar.gz (2.4 kB)\n",
            "  Preparing metadata (setup.py) ... \u001b[?25l\u001b[?25hdone\n",
            "Requirement already satisfied: Keras>=2.1.5 in /usr/local/lib/python3.10/dist-packages (from keras.utils) (2.15.0)\n",
            "Building wheels for collected packages: keras.utils\n",
            "  Building wheel for keras.utils (setup.py) ... \u001b[?25l\u001b[?25hdone\n",
            "  Created wheel for keras.utils: filename=keras_utils-1.0.13-py3-none-any.whl size=2631 sha256=b569b4be500232e18276a72420ff68ebaced352d5f1f3eed93fff4912a158838\n",
            "  Stored in directory: /root/.cache/pip/wheels/5c/c0/b3/0c332de4fd71f3733ea6d61697464b7ae4b2b5ff0300e6ca7a\n",
            "Successfully built keras.utils\n",
            "Installing collected packages: keras.utils\n",
            "Successfully installed keras.utils-1.0.13\n",
            "Collecting keras_preprocessing\n",
            "  Downloading Keras_Preprocessing-1.1.2-py2.py3-none-any.whl (42 kB)\n",
            "\u001b[2K     \u001b[90m━━━━━━━━━━━━━━━━━━━━━━━━━━━━━━━━━━━━━━━━\u001b[0m \u001b[32m42.6/42.6 kB\u001b[0m \u001b[31m2.1 MB/s\u001b[0m eta \u001b[36m0:00:00\u001b[0m\n",
            "\u001b[?25hRequirement already satisfied: numpy>=1.9.1 in /usr/local/lib/python3.10/dist-packages (from keras_preprocessing) (1.25.2)\n",
            "Requirement already satisfied: six>=1.9.0 in /usr/local/lib/python3.10/dist-packages (from keras_preprocessing) (1.16.0)\n",
            "Installing collected packages: keras_preprocessing\n",
            "Successfully installed keras_preprocessing-1.1.2\n"
          ]
        }
      ]
    },
    {
      "cell_type": "markdown",
      "source": [
        "Let's run some helper functions to setup using the GPUs"
      ],
      "metadata": {
        "id": "9H2IYs8QkXZd"
      }
    },
    {
      "cell_type": "code",
      "execution_count": 2,
      "metadata": {
        "id": "0fpgYwAtNO2T",
        "colab": {
          "base_uri": "https://localhost:8080/"
        },
        "outputId": "4485bf89-cd1e-4240-99c3-2b9620c288b7"
      },
      "outputs": [
        {
          "output_type": "stream",
          "name": "stderr",
          "text": [
            "[nltk_data] Downloading package punkt to /root/nltk_data...\n",
            "[nltk_data]   Unzipping tokenizers/punkt.zip.\n"
          ]
        },
        {
          "output_type": "execute_result",
          "data": {
            "text/plain": [
              "True"
            ]
          },
          "metadata": {},
          "execution_count": 2
        }
      ],
      "source": [
        "import multiprocessing\n",
        "import tensorflow as tf\n",
        "import sys\n",
        "#import keras.backend as K\n",
        "from keras import utils\n",
        "import tensorflow.python.keras.backend as K\n",
        "from keras.models import Sequential\n",
        "from keras.layers import Dense, Embedding, Lambda, ELU, Conv1D, MaxPooling1D, Dropout, Input\n",
        "from keras.preprocessing import sequence\n",
        "from keras.preprocessing.text import Tokenizer\n",
        "from sklearn.model_selection import train_test_split\n",
        "from keras import preprocessing\n",
        "from textblob import TextBlob, Word\n",
        "from keras_preprocessing.sequence import pad_sequences\n",
        "from keras.initializers import Constant\n",
        "from tensorflow.keras.layers.experimental import preprocessing\n",
        "from tensorflow.keras import Model, Input\n",
        "import numpy as np\n",
        "import re\n",
        "import random\n",
        "import os\n",
        "import pandas as pd\n",
        "import gensim\n",
        "import warnings\n",
        "import nltk\n",
        "import time\n",
        "\n",
        "\n",
        "TRACE = False\n",
        "\n",
        "def set_seeds_and_trace():\n",
        "  os.environ['PYTHONHASHSEED'] = '0'\n",
        "  np.random.seed(42)\n",
        "  tf.random.set_seed(42)\n",
        "  random.seed(42)\n",
        "  if TRACE:\n",
        "    tf.debugging.set_log_device_placement(True)\n",
        "\n",
        "def set_session_with_gpus_and_cores():\n",
        "  cores = multiprocessing.cpu_count()\n",
        "  gpus = len(tf.config.list_physical_devices('GPU'))\n",
        "  config = tf.compat.v1.ConfigProto( device_count = {'GPU': gpus  , 'CPU': cores} , intra_op_parallelism_threads=1, inter_op_parallelism_threads=1)\n",
        "  sess = tf.compat.v1.Session(config=config)\n",
        "  tf.compat.v1.keras.backend.set_session(sess)\n",
        "\n",
        "set_seeds_and_trace()\n",
        "set_session_with_gpus_and_cores()\n",
        "warnings.filterwarnings('ignore')\n",
        "nltk.download('punkt')"
      ]
    },
    {
      "cell_type": "markdown",
      "source": [
        "## Attention *a la Bahdanau*"
      ],
      "metadata": {
        "id": "uvVC_dlqmdf6"
      }
    },
    {
      "cell_type": "markdown",
      "source": [
        "The easiest way to test a Layer in Keras is to create a simple model that uses such a layer, we will do just that! This also shows how easy is to add attention to your models, which we will use extensively when creating THE Transformer from scratch"
      ],
      "metadata": {
        "id": "ibxTc61LmmhK"
      }
    },
    {
      "cell_type": "markdown",
      "source": [
        "Notice we need a custom model class because the inputs needs to be the query and value, and they could have different embeddings as well."
      ],
      "metadata": {
        "id": "oLbdmNwEoUM7"
      }
    },
    {
      "cell_type": "code",
      "source": [
        "class AttentionModel(tf.keras.Model):\n",
        "\n",
        "  def __init__(self, vocab_size, max_tokens, embedding_dim, dropout_rate):\n",
        "    super().__init__()\n",
        "    self.embedding = tf.keras.layers.Embedding(input_dim=vocab_size, output_dim=embedding_dim, input_length=max_tokens)\n",
        "    self.attention = tf.keras.layers.AdditiveAttention()\n",
        "    self.dropout = tf.keras.layers.Dropout(dropout_rate)\n",
        "    self.dense = tf.keras.layers.Dense(vocab_size, activation='softmax')\n",
        "\n",
        "  def call(self, inputs, training=False):\n",
        "\n",
        "    query, value = inputs\n",
        "    # Query embeddings of shape [batch_size, Tq, dimension].\n",
        "    query_embeddings = self.embedding(query)\n",
        "    # Value embeddings of shape [batch_size, Tv, dimension].\n",
        "    value_embeddings = self.embedding(value)\n",
        "    # Notice we could have an embedding for the inputs and another embedding for outputs, we will see more of that later\n",
        "    x = self.attention([query_embeddings, value_embeddings])\n",
        "    x = self.dropout(x, training=training)\n",
        "    x = self.dense(x, training=training)\n",
        "    return x\n",
        "\n",
        "  def build_graph(self, max_tokens, embedding_dim):\n",
        "    query_input = tf.keras.Input(shape=(None, max_tokens, embedding_dim), dtype='int32')\n",
        "    value_input = tf.keras.Input(shape=(None, max_tokens, embedding_dim), dtype='int32')\n",
        "    x = (query_input, value_input)\n",
        "    return Model(inputs=x, outputs=self.call(x))"
      ],
      "metadata": {
        "id": "36P0ESmxThvQ"
      },
      "execution_count": 3,
      "outputs": []
    },
    {
      "cell_type": "code",
      "source": [
        "model = AttentionModel(100, 10, 20, 0)"
      ],
      "metadata": {
        "id": "WpLSon3cNVvc"
      },
      "execution_count": 4,
      "outputs": []
    },
    {
      "cell_type": "code",
      "source": [
        "model.summary()"
      ],
      "metadata": {
        "id": "CSRhli0ZWFxf",
        "colab": {
          "base_uri": "https://localhost:8080/"
        },
        "outputId": "d4950e0f-d48b-4165-88b4-3da6f92df7e8"
      },
      "execution_count": 11,
      "outputs": [
        {
          "output_type": "stream",
          "name": "stdout",
          "text": [
            "Model: \"attention_model\"\n",
            "_________________________________________________________________\n",
            " Layer (type)                Output Shape              Param #   \n",
            "=================================================================\n",
            " embedding (Embedding)       (None, None, 10, 20, 20   2000      \n",
            "                             )                                   \n",
            "                                                                 \n",
            " additive_attention (Additi  (None, None, 10, 20, 20   20        \n",
            " veAttention)                )                                   \n",
            "                                                                 \n",
            " dropout (Dropout)           (None, None, 10, 20, 20   0         \n",
            "                             )                                   \n",
            "                                                                 \n",
            " dense (Dense)               (None, None, 10, 20, 10   2100      \n",
            "                             0)                                  \n",
            "                                                                 \n",
            "=================================================================\n",
            "Total params: 4120 (16.09 KB)\n",
            "Trainable params: 4120 (16.09 KB)\n",
            "Non-trainable params: 0 (0.00 Byte)\n",
            "_________________________________________________________________\n"
          ]
        }
      ]
    },
    {
      "cell_type": "markdown",
      "source": [
        "Oh no! We need to call the model, well that is simple let's simulate 3 sentences!"
      ],
      "metadata": {
        "id": "eXOb_IEGqV2p"
      }
    },
    {
      "cell_type": "code",
      "source": [
        "embedding_dim = 20\n",
        "max_tokens = 10\n",
        "query = tf.constant(np.random.randint(0, embedding_dim, size=(3,max_tokens)))\n",
        "value = tf.constant(np.random.randint(0, embedding_dim, size=(3,max_tokens)))\n",
        "\n",
        "response = model((query,value) )"
      ],
      "metadata": {
        "id": "Mtn3d4wwyEGU"
      },
      "execution_count": 6,
      "outputs": []
    },
    {
      "cell_type": "code",
      "source": [
        "response.shape"
      ],
      "metadata": {
        "id": "8ngnlesuSTyC",
        "colab": {
          "base_uri": "https://localhost:8080/"
        },
        "outputId": "414a3d76-fd29-4747-a332-0446a6cf91db"
      },
      "execution_count": 7,
      "outputs": [
        {
          "output_type": "execute_result",
          "data": {
            "text/plain": [
              "TensorShape([3, 10, 100])"
            ]
          },
          "metadata": {},
          "execution_count": 7
        }
      ]
    },
    {
      "cell_type": "code",
      "source": [
        "model.summary()"
      ],
      "metadata": {
        "id": "bZCFervbyf7i",
        "colab": {
          "base_uri": "https://localhost:8080/"
        },
        "outputId": "96ab2a2b-e0f9-4510-bd8d-0d7e7cc90134"
      },
      "execution_count": 8,
      "outputs": [
        {
          "output_type": "stream",
          "name": "stdout",
          "text": [
            "Model: \"attention_model\"\n",
            "_________________________________________________________________\n",
            " Layer (type)                Output Shape              Param #   \n",
            "=================================================================\n",
            " embedding (Embedding)       multiple                  2000      \n",
            "                                                                 \n",
            " additive_attention (Additi  multiple                  20        \n",
            " veAttention)                                                    \n",
            "                                                                 \n",
            " dropout (Dropout)           multiple                  0         \n",
            "                                                                 \n",
            " dense (Dense)               multiple                  2100      \n",
            "                                                                 \n",
            "=================================================================\n",
            "Total params: 4120 (16.09 KB)\n",
            "Trainable params: 4120 (16.09 KB)\n",
            "Non-trainable params: 0 (0.00 Byte)\n",
            "_________________________________________________________________\n"
          ]
        }
      ]
    },
    {
      "cell_type": "code",
      "source": [
        "model.build_graph(max_tokens=max_tokens, embedding_dim=embedding_dim)"
      ],
      "metadata": {
        "id": "Gi07wCzxXNt7",
        "colab": {
          "base_uri": "https://localhost:8080/"
        },
        "outputId": "3f2df968-7091-4290-8677-eea843cf312a"
      },
      "execution_count": 9,
      "outputs": [
        {
          "output_type": "execute_result",
          "data": {
            "text/plain": [
              "<keras.src.engine.functional.Functional at 0x79a03e473b20>"
            ]
          },
          "metadata": {},
          "execution_count": 9
        }
      ]
    },
    {
      "cell_type": "code",
      "source": [
        "model.summary()"
      ],
      "metadata": {
        "id": "X1PW8NYaXOTq",
        "colab": {
          "base_uri": "https://localhost:8080/"
        },
        "outputId": "a187fe06-4036-4971-d206-ab70e8e8a55e"
      },
      "execution_count": 10,
      "outputs": [
        {
          "output_type": "stream",
          "name": "stdout",
          "text": [
            "Model: \"attention_model\"\n",
            "_________________________________________________________________\n",
            " Layer (type)                Output Shape              Param #   \n",
            "=================================================================\n",
            " embedding (Embedding)       (None, None, 10, 20, 20   2000      \n",
            "                             )                                   \n",
            "                                                                 \n",
            " additive_attention (Additi  (None, None, 10, 20, 20   20        \n",
            " veAttention)                )                                   \n",
            "                                                                 \n",
            " dropout (Dropout)           (None, None, 10, 20, 20   0         \n",
            "                             )                                   \n",
            "                                                                 \n",
            " dense (Dense)               (None, None, 10, 20, 10   2100      \n",
            "                             0)                                  \n",
            "                                                                 \n",
            "=================================================================\n",
            "Total params: 4120 (16.09 KB)\n",
            "Trainable params: 4120 (16.09 KB)\n",
            "Non-trainable params: 0 (0.00 Byte)\n",
            "_________________________________________________________________\n"
          ]
        }
      ]
    },
    {
      "cell_type": "markdown",
      "source": [
        "Notice that attention adds very few parameters, adds many knowledge to the following layers, and is paralellizable."
      ],
      "metadata": {
        "id": "nWQHcNquqfVK"
      }
    },
    {
      "cell_type": "markdown",
      "source": [
        "## MultiHead Attention"
      ],
      "metadata": {
        "id": "A5y1okQ9QJ48"
      }
    },
    {
      "cell_type": "markdown",
      "source": [
        "Now you are ready to see Multi Head Attention. The idea is quite simple, as in CNNs we had many filters and each convolution checked many different aspects of an image, having many self attentions can check different aspects of our entity, globally. In image it is:\n",
        "\n",
        "<figure>\n",
        "<center>\n",
        "<img src='https://www.dropbox.com/s/wjfxpap06viclhv/mha.png?raw=1'  />\n",
        "<figcaption>Attention</figcaption></center>\n",
        "</figure>"
      ],
      "metadata": {
        "id": "bakdsYuhqogu"
      }
    },
    {
      "cell_type": "markdown",
      "source": [
        "Each head performs Scaled attention as we did before with the weird formula, and then we concatenate!"
      ],
      "metadata": {
        "id": "S4tqYQY3rPCJ"
      }
    },
    {
      "cell_type": "code",
      "source": [
        "class MultiHeadAttentionModel(tf.keras.Model):\n",
        "\n",
        "  def __init__(self, num_heads, vocab_size, attention_dim, max_tokens, embedding_dim, dropout_rate):\n",
        "    super().__init__()\n",
        "    self.embedding = tf.keras.layers.Embedding(input_dim=vocab_size, output_dim=embedding_dim, input_length=max_tokens)\n",
        "\n",
        "    # key_dim stands for size of each attention head for query and key, we can also pass value_key is K!=V\n",
        "    self.attention = tf.keras.layers.MultiHeadAttention(num_heads=num_heads, key_dim=attention_dim, dropout=dropout_rate)\n",
        "\n",
        "    self.dense = tf.keras.layers.Dense(100, activation='softmax')\n",
        "\n",
        "  def call(self, inputs, training=False):\n",
        "\n",
        "    query, value = inputs\n",
        "    # Query embeddings of shape [batch_size, Tq, dimension].\n",
        "    query_embeddings = self.embedding(query)\n",
        "    # Value embeddings of shape [batch_size, Tv, dimension].\n",
        "    value_embeddings = self.embedding(value)\n",
        "    x, weights = self.attention(query_embeddings, value_embeddings, return_attention_scores=True)  # We return the scores to do our plot!\n",
        "    x = self.dense(x, training=training)\n",
        "    return x, weights\n",
        "\n",
        "  def build_graph(self, max_tokens, embedding_dim):\n",
        "    query_input = tf.keras.Input(shape=(max_tokens, embedding_dim), dtype='int32')\n",
        "    value_input = tf.keras.Input(shape=(max_tokens, embedding_dim), dtype='int32')\n",
        "    x = (query_input, value_input)\n",
        "    return Model(inputs=x, outputs=self.call(x))"
      ],
      "metadata": {
        "id": "7TqMEi2gQNFZ"
      },
      "execution_count": 12,
      "outputs": []
    },
    {
      "cell_type": "code",
      "source": [
        "vocab_size=100\n",
        "model = MultiHeadAttentionModel(num_heads=3, vocab_size=vocab_size, attention_dim=2, max_tokens=max_tokens, embedding_dim=embedding_dim, dropout_rate=0)"
      ],
      "metadata": {
        "id": "HyWkokOtw6GW"
      },
      "execution_count": 13,
      "outputs": []
    },
    {
      "cell_type": "code",
      "source": [
        "model.build_graph(max_tokens=max_tokens, embedding_dim=embedding_dim)"
      ],
      "metadata": {
        "id": "vXhcalSwxF9a",
        "colab": {
          "base_uri": "https://localhost:8080/"
        },
        "outputId": "dee91137-debf-457a-b075-d318322ca0ee"
      },
      "execution_count": 14,
      "outputs": [
        {
          "output_type": "execute_result",
          "data": {
            "text/plain": [
              "<keras.src.engine.functional.Functional at 0x799fa02c2c80>"
            ]
          },
          "metadata": {},
          "execution_count": 14
        }
      ]
    },
    {
      "cell_type": "code",
      "source": [
        "query = tf.constant(np.random.randint(0,vocab_size, size=(3,max_tokens, 10)))\n",
        "value = tf.constant(np.random.randint(0,vocab_size, size=(3,max_tokens, 10)))\n",
        "\n",
        "response, weights = model((query,value) )"
      ],
      "metadata": {
        "id": "HW4raKPVxPNj"
      },
      "execution_count": 15,
      "outputs": []
    },
    {
      "cell_type": "code",
      "source": [
        "response.shape"
      ],
      "metadata": {
        "id": "HelBLsdnxbL7",
        "colab": {
          "base_uri": "https://localhost:8080/"
        },
        "outputId": "fdd84814-2136-4669-c965-0e8508f72a33"
      },
      "execution_count": 16,
      "outputs": [
        {
          "output_type": "execute_result",
          "data": {
            "text/plain": [
              "TensorShape([3, 10, 10, 100])"
            ]
          },
          "metadata": {},
          "execution_count": 16
        }
      ]
    },
    {
      "cell_type": "markdown",
      "source": [
        "**Can you guess each value in the response.shape where does it come from?**"
      ],
      "metadata": {
        "id": "NrYWnu1RsQWS"
      }
    },
    {
      "cell_type": "code",
      "source": [
        "weights.shape"
      ],
      "metadata": {
        "id": "OG5X7dchyN4v",
        "colab": {
          "base_uri": "https://localhost:8080/"
        },
        "outputId": "5b04ac92-e836-4e7c-9af9-a3761c81a154"
      },
      "execution_count": 17,
      "outputs": [
        {
          "output_type": "execute_result",
          "data": {
            "text/plain": [
              "TensorShape([3, 3, 10, 10, 10, 10])"
            ]
          },
          "metadata": {},
          "execution_count": 17
        }
      ]
    },
    {
      "cell_type": "markdown",
      "source": [
        "**And for the weights??**"
      ],
      "metadata": {
        "id": "yVfmU78bsaIG"
      }
    },
    {
      "cell_type": "code",
      "source": [
        "model.summary()"
      ],
      "metadata": {
        "id": "esLeIv1IyOtf",
        "colab": {
          "base_uri": "https://localhost:8080/"
        },
        "outputId": "40be1a3f-4052-4deb-b2fd-ebb2846d2768"
      },
      "execution_count": 18,
      "outputs": [
        {
          "output_type": "stream",
          "name": "stdout",
          "text": [
            "Model: \"multi_head_attention_model\"\n",
            "_________________________________________________________________\n",
            " Layer (type)                Output Shape              Param #   \n",
            "=================================================================\n",
            " embedding_1 (Embedding)     (None, 10, 20, 20)        2000      \n",
            "                                                                 \n",
            " multi_head_attention (Mult  ((None, 10, 20, 20),      518       \n",
            " iHeadAttention)              (None, 3, 10, 20, 10,              \n",
            "                             20))                                \n",
            "                                                                 \n",
            " dense_1 (Dense)             (None, 10, 20, 100)       2100      \n",
            "                                                                 \n",
            "=================================================================\n",
            "Total params: 4618 (18.04 KB)\n",
            "Trainable params: 4618 (18.04 KB)\n",
            "Non-trainable params: 0 (0.00 Byte)\n",
            "_________________________________________________________________\n"
          ]
        }
      ]
    },
    {
      "cell_type": "markdown",
      "source": [
        "Again, notice Attention as complex as multi head attention did not add many params and adds a lot lexical intelligence."
      ],
      "metadata": {
        "id": "n-KQ5uhrsfmB"
      }
    },
    {
      "cell_type": "code",
      "source": [],
      "metadata": {
        "id": "uluP5iZYsn44"
      },
      "execution_count": 18,
      "outputs": []
    }
  ]
}